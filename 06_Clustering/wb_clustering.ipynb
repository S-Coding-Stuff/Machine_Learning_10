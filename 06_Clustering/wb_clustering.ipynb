{
 "cells": [
  {
   "cell_type": "code",
   "execution_count": 23,
   "id": "initial_id",
   "metadata": {
    "ExecuteTime": {
     "end_time": "2025-09-11T10:30:05.790029Z",
     "start_time": "2025-09-11T10:30:05.618018Z"
    },
    "collapsed": true
   },
   "outputs": [],
   "source": [
    "import wbdata\n",
    "import pandas as pd\n",
    "import datetime"
   ]
  },
  {
   "cell_type": "code",
   "execution_count": 24,
   "id": "3e7262f7",
   "metadata": {
    "ExecuteTime": {
     "end_time": "2025-09-11T10:30:05.813943Z",
     "start_time": "2025-09-11T10:30:05.800376Z"
    }
   },
   "outputs": [
    {
     "name": "stdout",
     "output_type": "stream",
     "text": [
      "id    name\n",
      "----  --------------------------------------------------------------------------------\n",
      "ABW   Aruba\n",
      "AFE   Africa Eastern and Southern\n",
      "AFG   Afghanistan\n",
      "AFR   Africa\n",
      "AFW   Africa Western and Central\n",
      "AGO   Angola\n",
      "ALB   Albania\n",
      "AND   Andorra\n",
      "ARB   Arab World\n",
      "ARE   United Arab Emirates\n",
      "ARG   Argentina\n",
      "ARM   Armenia\n",
      "ASM   American Samoa\n",
      "ATG   Antigua and Barbuda\n",
      "AUS   Australia\n",
      "AUT   Austria\n",
      "AZE   Azerbaijan\n",
      "BDI   Burundi\n",
      "BEA   East Asia & Pacific (IBRD-only countries)\n",
      "BEC   Europe & Central Asia (IBRD-only countries)\n",
      "BEL   Belgium\n",
      "BEN   Benin\n",
      "BFA   Burkina Faso\n",
      "BGD   Bangladesh\n",
      "BGR   Bulgaria\n",
      "BHI   IBRD countries classified as high income\n",
      "BHR   Bahrain\n",
      "BHS   Bahamas, The\n",
      "BIH   Bosnia and Herzegovina\n",
      "BLA   Latin America & the Caribbean (IBRD-only countries)\n",
      "BLR   Belarus\n",
      "BLZ   Belize\n",
      "BMN   Middle East, North Africa, Afghanistan & Pakistan (IBRD only)\n",
      "BMU   Bermuda\n",
      "BOL   Bolivia\n",
      "BRA   Brazil\n",
      "BRB   Barbados\n",
      "BRN   Brunei Darussalam\n",
      "BSS   Sub-Saharan Africa (IBRD-only countries)\n",
      "BTN   Bhutan\n",
      "BWA   Botswana\n",
      "CAA   Sub-Saharan Africa (IFC classification)\n",
      "CAF   Central African Republic\n",
      "CAN   Canada\n",
      "CEA   East Asia and the Pacific (IFC classification)\n",
      "CEB   Central Europe and the Baltics\n",
      "CEU   Europe and Central Asia (IFC classification)\n",
      "CHE   Switzerland\n",
      "CHI   Channel Islands\n",
      "CHL   Chile\n",
      "CHN   China\n",
      "CIV   Cote d'Ivoire\n",
      "CLA   Latin America and the Caribbean (IFC classification)\n",
      "CME   Middle East and North Africa (IFC classification)\n",
      "CMR   Cameroon\n",
      "COD   Congo, Dem. Rep.\n",
      "COG   Congo, Rep.\n",
      "COL   Colombia\n",
      "COM   Comoros\n",
      "CPV   Cabo Verde\n",
      "CRI   Costa Rica\n",
      "CSA   South Asia (IFC classification)\n",
      "CSS   Caribbean small states\n",
      "CUB   Cuba\n",
      "CUW   Curacao\n",
      "CYM   Cayman Islands\n",
      "CYP   Cyprus\n",
      "CZE   Czechia\n",
      "DEA   East Asia & Pacific (IDA-eligible countries)\n",
      "DEC   Europe & Central Asia (IDA-eligible countries)\n",
      "DEU   Germany\n",
      "DJI   Djibouti\n",
      "DLA   Latin America & the Caribbean (IDA-eligible countries)\n",
      "DMA   Dominica\n",
      "DMN   Middle East, North Africa, Afghanistan & Pakistan (IDA total)\n",
      "DNK   Denmark\n",
      "DNS   IDA countries in Sub-Saharan Africa not classified as fragile situations\n",
      "DOM   Dominican Republic\n",
      "DSA   South Asia (IDA-eligible countries)\n",
      "DSF   IDA countries in Sub-Saharan Africa classified as fragile situations\n",
      "DSS   Sub-Saharan Africa (IDA-eligible countries)\n",
      "DZA   Algeria\n",
      "EAP   East Asia & Pacific (excluding high income)\n",
      "EAR   Early-demographic dividend\n",
      "EAS   East Asia & Pacific\n",
      "ECA   Europe & Central Asia (excluding high income)\n",
      "ECS   Europe & Central Asia\n",
      "ECU   Ecuador\n",
      "EGY   Egypt, Arab Rep.\n",
      "EMU   Euro area\n",
      "ERI   Eritrea\n",
      "ESP   Spain\n",
      "EST   Estonia\n",
      "ETH   Ethiopia\n",
      "EUU   European Union\n",
      "FCS   Fragile and conflict affected situations\n",
      "FIN   Finland\n",
      "FJI   Fiji\n",
      "FRA   France\n",
      "FRO   Faroe Islands\n",
      "FSM   Micronesia, Fed. Sts.\n",
      "FXS   IDA countries classified as fragile situations, excluding Sub-Saharan Africa\n",
      "GAB   Gabon\n",
      "GBR   United Kingdom\n",
      "GEO   Georgia\n",
      "GHA   Ghana\n",
      "GIB   Gibraltar\n",
      "GIN   Guinea\n",
      "GMB   Gambia, The\n",
      "GNB   Guinea-Bissau\n",
      "GNQ   Equatorial Guinea\n",
      "GRC   Greece\n",
      "GRD   Grenada\n",
      "GRL   Greenland\n",
      "GTM   Guatemala\n",
      "GUM   Guam\n",
      "GUY   Guyana\n",
      "HIC   High income\n",
      "HKG   Hong Kong SAR, China\n",
      "HND   Honduras\n",
      "HPC   Heavily indebted poor countries (HIPC)\n",
      "HRV   Croatia\n",
      "HTI   Haiti\n",
      "HUN   Hungary\n",
      "IBB   IBRD, including blend\n",
      "IBD   IBRD only\n",
      "IBT   IDA & IBRD total\n",
      "IDA   IDA total\n",
      "IDB   IDA blend\n",
      "IDN   Indonesia\n",
      "IDX   IDA only\n",
      "IMN   Isle of Man\n",
      "IND   India\n",
      "INX   Not classified\n",
      "IRL   Ireland\n",
      "IRN   Iran, Islamic Rep.\n",
      "IRQ   Iraq\n",
      "ISL   Iceland\n",
      "ISR   Israel\n",
      "ITA   Italy\n",
      "JAM   Jamaica\n",
      "JOR   Jordan\n",
      "JPN   Japan\n",
      "KAZ   Kazakhstan\n",
      "KEN   Kenya\n",
      "KGZ   Kyrgyz Republic\n",
      "KHM   Cambodia\n",
      "KIR   Kiribati\n",
      "KNA   St. Kitts and Nevis\n",
      "KOR   Korea, Rep.\n",
      "KWT   Kuwait\n",
      "LAC   Latin America & Caribbean (excluding high income)\n",
      "LAO   Lao PDR\n",
      "LBN   Lebanon\n",
      "LBR   Liberia\n",
      "LBY   Libya\n",
      "LCA   St. Lucia\n",
      "LCN   Latin America & Caribbean\n",
      "LDC   Least developed countries: UN classification\n",
      "LIC   Low income\n",
      "LIE   Liechtenstein\n",
      "LKA   Sri Lanka\n",
      "LMC   Lower middle income\n",
      "LMY   Low & middle income\n",
      "LSO   Lesotho\n",
      "LTE   Late-demographic dividend\n",
      "LTU   Lithuania\n",
      "LUX   Luxembourg\n",
      "LVA   Latvia\n",
      "MAC   Macao SAR, China\n",
      "MAF   St. Martin (French part)\n",
      "MAR   Morocco\n",
      "MCO   Monaco\n",
      "MDA   Moldova\n",
      "MDE   Middle East (developing only)\n",
      "MDG   Madagascar\n",
      "MDV   Maldives\n",
      "MEA   Middle East, North Africa, Afghanistan & Pakistan\n",
      "MEX   Mexico\n",
      "MHL   Marshall Islands\n",
      "MIC   Middle income\n",
      "MKD   North Macedonia\n",
      "MLI   Mali\n",
      "MLT   Malta\n",
      "MMR   Myanmar\n",
      "MNA   Middle East, North Africa, Afghanistan & Pakistan (excluding high income)\n",
      "MNE   Montenegro\n",
      "MNG   Mongolia\n",
      "MNP   Northern Mariana Islands\n",
      "MOZ   Mozambique\n",
      "MRT   Mauritania\n",
      "MUS   Mauritius\n",
      "MWI   Malawi\n",
      "MYS   Malaysia\n",
      "NAC   North America\n",
      "NAF   North Africa\n",
      "NAM   Namibia\n",
      "NCL   New Caledonia\n",
      "NER   Niger\n",
      "NGA   Nigeria\n",
      "NIC   Nicaragua\n",
      "NLD   Netherlands\n",
      "NOR   Norway\n",
      "NPL   Nepal\n",
      "NRS   Non-resource rich Sub-Saharan Africa countries\n",
      "NRU   Nauru\n",
      "NXS   IDA countries not classified as fragile situations, excluding Sub-Saharan Africa\n",
      "NZL   New Zealand\n",
      "OED   OECD members\n",
      "OMN   Oman\n",
      "OSS   Other small states\n",
      "PAK   Pakistan\n",
      "PAN   Panama\n",
      "PER   Peru\n",
      "PHL   Philippines\n",
      "PLW   Palau\n",
      "PNG   Papua New Guinea\n",
      "POL   Poland\n",
      "PRE   Pre-demographic dividend\n",
      "PRI   Puerto Rico (US)\n",
      "PRK   Korea, Dem. People's Rep.\n",
      "PRT   Portugal\n",
      "PRY   Paraguay\n",
      "PSE   West Bank and Gaza\n",
      "PSS   Pacific island small states\n",
      "PST   Post-demographic dividend\n",
      "PYF   French Polynesia\n",
      "QAT   Qatar\n",
      "ROU   Romania\n",
      "RRS   Resource rich Sub-Saharan Africa countries\n",
      "RUS   Russian Federation\n",
      "RWA   Rwanda\n",
      "SAS   South Asia\n",
      "SAU   Saudi Arabia\n",
      "SDN   Sudan\n",
      "SEN   Senegal\n",
      "SGP   Singapore\n",
      "SLB   Solomon Islands\n",
      "SLE   Sierra Leone\n",
      "SLV   El Salvador\n",
      "SMR   San Marino\n",
      "SOM   Somalia\n",
      "SRB   Serbia\n",
      "SSA   Sub-Saharan Africa (excluding high income)\n",
      "SSD   South Sudan\n",
      "SSF   Sub-Saharan Africa\n",
      "SST   Small states\n",
      "STP   Sao Tome and Principe\n",
      "SUR   Suriname\n",
      "SVK   Slovak Republic\n",
      "SVN   Slovenia\n",
      "SWE   Sweden\n",
      "SWZ   Eswatini\n",
      "SXM   Sint Maarten (Dutch part)\n",
      "SXZ   Sub-Saharan Africa excluding South Africa\n",
      "SYC   Seychelles\n",
      "SYR   Syrian Arab Republic\n",
      "TCA   Turks and Caicos Islands\n",
      "TCD   Chad\n",
      "TEA   East Asia & Pacific (IDA & IBRD countries)\n",
      "TEC   Europe & Central Asia (IDA & IBRD countries)\n",
      "TGO   Togo\n",
      "THA   Thailand\n",
      "TJK   Tajikistan\n",
      "TKM   Turkmenistan\n",
      "TLA   Latin America & the Caribbean (IDA & IBRD countries)\n",
      "TLS   Timor-Leste\n",
      "TMN   Middle East, North Africa, Afghanistan & Pakistan (IDA & IBRD)\n",
      "TON   Tonga\n",
      "TSA   South Asia (IDA & IBRD)\n",
      "TSS   Sub-Saharan Africa (IDA & IBRD countries)\n",
      "TTO   Trinidad and Tobago\n",
      "TUN   Tunisia\n",
      "TUR   Turkiye\n",
      "TUV   Tuvalu\n",
      "TZA   Tanzania\n",
      "UGA   Uganda\n",
      "UKR   Ukraine\n",
      "UMC   Upper middle income\n",
      "URY   Uruguay\n",
      "USA   United States\n",
      "UZB   Uzbekistan\n",
      "VCT   St. Vincent and the Grenadines\n",
      "VEN   Venezuela, RB\n",
      "VGB   British Virgin Islands\n",
      "VIR   Virgin Islands (U.S.)\n",
      "VNM   Viet Nam\n",
      "VUT   Vanuatu\n",
      "WLD   World\n",
      "WSM   Samoa\n",
      "XKX   Kosovo\n",
      "XZN   Sub-Saharan Africa excluding South Africa and Nigeria\n",
      "YEM   Yemen, Rep.\n",
      "ZAF   South Africa\n",
      "ZMB   Zambia\n",
      "ZWE   Zimbabwe\n"
     ]
    }
   ],
   "source": [
    "print(wbdata.get_countries())"
   ]
  },
  {
   "cell_type": "code",
   "execution_count": 25,
   "id": "912f0661",
   "metadata": {
    "ExecuteTime": {
     "end_time": "2025-09-11T10:30:05.838220Z",
     "start_time": "2025-09-11T10:30:05.819962Z"
    }
   },
   "outputs": [],
   "source": [
    "indicators = {\n",
    "    \"NY.GDP.PCAP.CD\": \"GDP_per_capita\",\n",
    "    \"SP.DYN.LE00.IN\": \"Life_expectancy\",\n",
    "    \"FP.CPI.TOTL.ZG\": \"Inflation\",\n",
    "    \"SL.UEM.TOTL.ZS\": \"Unemployment\",\n",
    "    \"SP.POP.TOTL\": \"Population\"\n",
    "}\n",
    "\n",
    "data = wbdata.get_dataframe(indicators=indicators, date=('2019', '2019'))\n",
    "df = data.reset_index()"
   ]
  },
  {
   "cell_type": "code",
   "execution_count": 26,
   "id": "3db8527f",
   "metadata": {
    "ExecuteTime": {
     "end_time": "2025-09-11T10:30:05.852667Z",
     "start_time": "2025-09-11T10:30:05.843461Z"
    }
   },
   "outputs": [
    {
     "data": {
      "text/html": [
       "<div>\n",
       "<style scoped>\n",
       "    .dataframe tbody tr th:only-of-type {\n",
       "        vertical-align: middle;\n",
       "    }\n",
       "\n",
       "    .dataframe tbody tr th {\n",
       "        vertical-align: top;\n",
       "    }\n",
       "\n",
       "    .dataframe thead th {\n",
       "        text-align: right;\n",
       "    }\n",
       "</style>\n",
       "<table border=\"1\" class=\"dataframe\">\n",
       "  <thead>\n",
       "    <tr style=\"text-align: right;\">\n",
       "      <th></th>\n",
       "      <th>country</th>\n",
       "      <th>GDP_per_capita</th>\n",
       "      <th>Life_expectancy</th>\n",
       "      <th>Inflation</th>\n",
       "      <th>Unemployment</th>\n",
       "      <th>Population</th>\n",
       "    </tr>\n",
       "  </thead>\n",
       "  <tbody>\n",
       "    <tr>\n",
       "      <th>0</th>\n",
       "      <td>Africa Eastern and Southern</td>\n",
       "      <td>1493.817938</td>\n",
       "      <td>63.857261</td>\n",
       "      <td>4.644967</td>\n",
       "      <td>7.584419</td>\n",
       "      <td>675950189.0</td>\n",
       "    </tr>\n",
       "    <tr>\n",
       "      <th>1</th>\n",
       "      <td>Africa Western and Central</td>\n",
       "      <td>1798.340685</td>\n",
       "      <td>57.149847</td>\n",
       "      <td>1.983092</td>\n",
       "      <td>4.395271</td>\n",
       "      <td>463365429.0</td>\n",
       "    </tr>\n",
       "    <tr>\n",
       "      <th>2</th>\n",
       "      <td>Arab World</td>\n",
       "      <td>6638.485415</td>\n",
       "      <td>71.839893</td>\n",
       "      <td>1.091848</td>\n",
       "      <td>10.216098</td>\n",
       "      <td>444281315.0</td>\n",
       "    </tr>\n",
       "    <tr>\n",
       "      <th>3</th>\n",
       "      <td>Caribbean small states</td>\n",
       "      <td>13938.202320</td>\n",
       "      <td>72.129260</td>\n",
       "      <td>1.000543</td>\n",
       "      <td>8.162114</td>\n",
       "      <td>4443134.0</td>\n",
       "    </tr>\n",
       "    <tr>\n",
       "      <th>4</th>\n",
       "      <td>Central Europe and the Baltics</td>\n",
       "      <td>16551.848892</td>\n",
       "      <td>77.265914</td>\n",
       "      <td>2.664561</td>\n",
       "      <td>3.770153</td>\n",
       "      <td>101864274.0</td>\n",
       "    </tr>\n",
       "  </tbody>\n",
       "</table>\n",
       "</div>"
      ],
      "text/plain": [
       "                          country  GDP_per_capita  Life_expectancy  Inflation  \\\n",
       "0     Africa Eastern and Southern     1493.817938        63.857261   4.644967   \n",
       "1      Africa Western and Central     1798.340685        57.149847   1.983092   \n",
       "2                      Arab World     6638.485415        71.839893   1.091848   \n",
       "3          Caribbean small states    13938.202320        72.129260   1.000543   \n",
       "4  Central Europe and the Baltics    16551.848892        77.265914   2.664561   \n",
       "\n",
       "   Unemployment   Population  \n",
       "0      7.584419  675950189.0  \n",
       "1      4.395271  463365429.0  \n",
       "2     10.216098  444281315.0  \n",
       "3      8.162114    4443134.0  \n",
       "4      3.770153  101864274.0  "
      ]
     },
     "execution_count": 26,
     "metadata": {},
     "output_type": "execute_result"
    }
   ],
   "source": [
    "df.head()"
   ]
  },
  {
   "cell_type": "code",
   "execution_count": 27,
   "id": "3c3eebaa",
   "metadata": {
    "ExecuteTime": {
     "end_time": "2025-09-11T10:30:06.097456Z",
     "start_time": "2025-09-11T10:30:05.871680Z"
    }
   },
   "outputs": [
    {
     "data": {
      "image/png": "[encoded data removed]",
      "text/plain": [
       "<Figure size 1000x600 with 1 Axes>"
      ]
     },
     "metadata": {},
     "output_type": "display_data"
    }
   ],
   "source": [
    "%matplotlib inline\n",
    "\n",
    "import matplotlib.pyplot as plt\n",
    "import seaborn as sns\n",
    "\n",
    "plt.figure(figsize=(10,6))\n",
    "plt.scatter(df['Inflation'], df['Unemployment'], alpha=0.5)\n",
    "plt.xscale('log')\n",
    "plt.yscale('log')\n",
    "\n",
    "plt.xlabel('GDP Per Capita')\n",
    "plt.ylabel('Life Expectancy (Years)')\n",
    "plt.title('GDP vs Life Expectancy')\n",
    "plt.show()"
   ]
  },
  {
   "cell_type": "code",
   "execution_count": 28,
   "id": "1b0c943f",
   "metadata": {
    "ExecuteTime": {
     "end_time": "2025-09-11T10:30:06.113348Z",
     "start_time": "2025-09-11T10:30:06.104761Z"
    }
   },
   "outputs": [
    {
     "data": {
      "text/html": [
       "<div>\n",
       "<style scoped>\n",
       "    .dataframe tbody tr th:only-of-type {\n",
       "        vertical-align: middle;\n",
       "    }\n",
       "\n",
       "    .dataframe tbody tr th {\n",
       "        vertical-align: top;\n",
       "    }\n",
       "\n",
       "    .dataframe thead th {\n",
       "        text-align: right;\n",
       "    }\n",
       "</style>\n",
       "<table border=\"1\" class=\"dataframe\">\n",
       "  <thead>\n",
       "    <tr style=\"text-align: right;\">\n",
       "      <th></th>\n",
       "      <th>country</th>\n",
       "      <th>Life_expectancy</th>\n",
       "      <th>Inflation</th>\n",
       "      <th>GDP_per_capita</th>\n",
       "    </tr>\n",
       "  </thead>\n",
       "  <tbody>\n",
       "    <tr>\n",
       "      <th>0</th>\n",
       "      <td>Africa Eastern and Southern</td>\n",
       "      <td>63.857261</td>\n",
       "      <td>4.644967</td>\n",
       "      <td>1493.817938</td>\n",
       "    </tr>\n",
       "    <tr>\n",
       "      <th>1</th>\n",
       "      <td>Africa Western and Central</td>\n",
       "      <td>57.149847</td>\n",
       "      <td>1.983092</td>\n",
       "      <td>1798.340685</td>\n",
       "    </tr>\n",
       "    <tr>\n",
       "      <th>2</th>\n",
       "      <td>Arab World</td>\n",
       "      <td>71.839893</td>\n",
       "      <td>1.091848</td>\n",
       "      <td>6638.485415</td>\n",
       "    </tr>\n",
       "    <tr>\n",
       "      <th>3</th>\n",
       "      <td>Caribbean small states</td>\n",
       "      <td>72.129260</td>\n",
       "      <td>1.000543</td>\n",
       "      <td>13938.202320</td>\n",
       "    </tr>\n",
       "    <tr>\n",
       "      <th>4</th>\n",
       "      <td>Central Europe and the Baltics</td>\n",
       "      <td>77.265914</td>\n",
       "      <td>2.664561</td>\n",
       "      <td>16551.848892</td>\n",
       "    </tr>\n",
       "    <tr>\n",
       "      <th>...</th>\n",
       "      <td>...</td>\n",
       "      <td>...</td>\n",
       "      <td>...</td>\n",
       "      <td>...</td>\n",
       "    </tr>\n",
       "    <tr>\n",
       "      <th>258</th>\n",
       "      <td>Vanuatu</td>\n",
       "      <td>70.783000</td>\n",
       "      <td>2.762520</td>\n",
       "      <td>3207.446505</td>\n",
       "    </tr>\n",
       "    <tr>\n",
       "      <th>260</th>\n",
       "      <td>Viet Nam</td>\n",
       "      <td>74.211000</td>\n",
       "      <td>2.795824</td>\n",
       "      <td>3440.900254</td>\n",
       "    </tr>\n",
       "    <tr>\n",
       "      <th>262</th>\n",
       "      <td>West Bank and Gaza</td>\n",
       "      <td>75.811000</td>\n",
       "      <td>1.580183</td>\n",
       "      <td>3656.858271</td>\n",
       "    </tr>\n",
       "    <tr>\n",
       "      <th>264</th>\n",
       "      <td>Zambia</td>\n",
       "      <td>62.914000</td>\n",
       "      <td>9.150316</td>\n",
       "      <td>1258.986198</td>\n",
       "    </tr>\n",
       "    <tr>\n",
       "      <th>265</th>\n",
       "      <td>Zimbabwe</td>\n",
       "      <td>61.060000</td>\n",
       "      <td>255.304991</td>\n",
       "      <td>1683.913136</td>\n",
       "    </tr>\n",
       "  </tbody>\n",
       "</table>\n",
       "<p>228 rows × 4 columns</p>\n",
       "</div>"
      ],
      "text/plain": [
       "                            country  Life_expectancy   Inflation  \\\n",
       "0       Africa Eastern and Southern        63.857261    4.644967   \n",
       "1        Africa Western and Central        57.149847    1.983092   \n",
       "2                        Arab World        71.839893    1.091848   \n",
       "3            Caribbean small states        72.129260    1.000543   \n",
       "4    Central Europe and the Baltics        77.265914    2.664561   \n",
       "..                              ...              ...         ...   \n",
       "258                         Vanuatu        70.783000    2.762520   \n",
       "260                        Viet Nam        74.211000    2.795824   \n",
       "262              West Bank and Gaza        75.811000    1.580183   \n",
       "264                          Zambia        62.914000    9.150316   \n",
       "265                        Zimbabwe        61.060000  255.304991   \n",
       "\n",
       "     GDP_per_capita  \n",
       "0       1493.817938  \n",
       "1       1798.340685  \n",
       "2       6638.485415  \n",
       "3      13938.202320  \n",
       "4      16551.848892  \n",
       "..              ...  \n",
       "258     3207.446505  \n",
       "260     3440.900254  \n",
       "262     3656.858271  \n",
       "264     1258.986198  \n",
       "265     1683.913136  \n",
       "\n",
       "[228 rows x 4 columns]"
      ]
     },
     "execution_count": 28,
     "metadata": {},
     "output_type": "execute_result"
    }
   ],
   "source": [
    "knn_df = df[['country', 'Life_expectancy', 'Inflation', 'GDP_per_capita']].dropna()\n",
    "knn_df"
   ]
  },
  {
   "cell_type": "code",
   "execution_count": 29,
   "id": "c90dda2b",
   "metadata": {
    "ExecuteTime": {
     "end_time": "2025-09-11T10:30:06.167942Z",
     "start_time": "2025-09-11T10:30:06.164085Z"
    }
   },
   "outputs": [],
   "source": [
    "import numpy as np\n",
    "\n",
    "knn_df['Inflation'] = np.clip(knn_df['Inflation'], -20, 50)\n",
    "knn_df[\"GDP_per_capita\"] = np.clip(knn_df[\"GDP_per_capita\"], 0, 100000)"
   ]
  },
  {
   "cell_type": "markdown",
   "id": "758dd84a",
   "metadata": {},
   "source": [
    "## Inflation vs Life Expectancy\n",
    "\n",
    "Taking four clusters for inflation vs life expectancy. Will check a silhouette score and utilise, but depending on plotting outcome may manually find a better metric"
   ]
  },
  {
   "cell_type": "code",
   "execution_count": 30,
   "id": "a0cc2101",
   "metadata": {
    "ExecuteTime": {
     "end_time": "2025-09-11T10:30:07.071933Z",
     "start_time": "2025-09-11T10:30:06.173271Z"
    }
   },
   "outputs": [],
   "source": [
    "from sklearn.cluster import KMeans\n",
    "from sklearn.preprocessing import StandardScaler\n",
    "from sklearn.metrics import silhouette_score\n",
    "\n",
    "scaler = StandardScaler()\n",
    "X = scaler.fit_transform(knn_df[['Inflation', 'Life_expectancy']])"
   ]
  },
  {
   "cell_type": "code",
   "execution_count": 31,
   "id": "8cf76338",
   "metadata": {
    "ExecuteTime": {
     "end_time": "2025-09-11T10:30:07.181994Z",
     "start_time": "2025-09-11T10:30:07.087582Z"
    }
   },
   "outputs": [
    {
     "name": "stdout",
     "output_type": "stream",
     "text": [
      "k=2, silhouette score = 0.495\n",
      "k=3, silhouette score = 0.506\n",
      "k=4, silhouette score = 0.403\n",
      "k=5, silhouette score = 0.449\n",
      "Best No. of Clusters: 3\n"
     ]
    }
   ],
   "source": [
    "scores = {}\n",
    "for k in range(2, 6):\n",
    "    kmean_checker = KMeans(n_clusters=k, random_state=42)\n",
    "    labels = kmean_checker.fit_predict(X)\n",
    "    score = silhouette_score(X, labels)\n",
    "    scores[k] = score\n",
    "    print(f'k={k}, silhouette score = {score:.3f}')\n",
    "\n",
    "best_k = max(scores, key=scores.get)\n",
    "print(f'Best No. of Clusters: {best_k}')"
   ]
  },
  {
   "cell_type": "code",
   "execution_count": 32,
   "id": "944623ae",
   "metadata": {
    "ExecuteTime": {
     "end_time": "2025-09-11T10:30:07.196642Z",
     "start_time": "2025-09-11T10:30:07.190017Z"
    }
   },
   "outputs": [],
   "source": [
    "kmeans = KMeans(n_clusters=4, random_state=42)\n",
    "knn_df['Cluster'] = kmeans.fit_predict(X)"
   ]
  },
  {
   "cell_type": "code",
   "execution_count": 33,
   "id": "10fb2778",
   "metadata": {
    "ExecuteTime": {
     "end_time": "2025-09-11T10:30:07.509684Z",
     "start_time": "2025-09-11T10:30:07.213775Z"
    }
   },
   "outputs": [
    {
     "data": {
      "image/png": "[encoded data removed]",
      "text/plain": [
       "<Figure size 1000x600 with 1 Axes>"
      ]
     },
     "metadata": {},
     "output_type": "display_data"
    }
   ],
   "source": [
    "plt.figure(figsize=(10,6))\n",
    "for cluster in knn_df['Cluster'].unique():\n",
    "    cluster_data = knn_df[knn_df[\"Cluster\"] == cluster]\n",
    "    plt.scatter(cluster_data[\"Inflation\"], cluster_data[\"Life_expectancy\"], label=f\"Cluster {cluster}\", alpha=0.7)\n",
    "\n",
    "countries = ['United Kingdom', 'Ireland', 'United States', 'China', 'Nigeria', 'Ghana', 'Australia', 'Cambodia', 'Vietnam', 'Mexico']\n",
    "\n",
    "for _, row in knn_df[knn_df['country'].isin(countries)].iterrows():\n",
    "    plt.text(row['Inflation']+0.5, row['Life_expectancy']+0.5, row['country'], fontsize=9, color='black')\n",
    "\n",
    "plt.xscale('log')\n",
    "plt.yscale('log')\n",
    "\n",
    "plt.xlabel('Inflation (%)')\n",
    "plt.ylabel('Life Expectancy (Years)')\n",
    "plt.title('Inflation vs Life Expectancy')\n",
    "plt.legend()\n",
    "plt.show()\n"
   ]
  },
  {
   "cell_type": "code",
   "execution_count": 34,
   "id": "e17a6ec8",
   "metadata": {
    "ExecuteTime": {
     "end_time": "2025-09-11T10:30:07.523353Z",
     "start_time": "2025-09-11T10:30:07.517427Z"
    }
   },
   "outputs": [
    {
     "name": "stdout",
     "output_type": "stream",
     "text": [
      "         Inflation  Life_expectancy\n",
      "Cluster                            \n",
      "0         1.537734        79.727291\n",
      "1         4.382220        61.644352\n",
      "2         3.078588        71.779760\n",
      "3        41.718405        66.237500\n"
     ]
    }
   ],
   "source": [
    "print(knn_df.groupby('Cluster')[['Inflation', 'Life_expectancy']].mean())"
   ]
  },
  {
   "cell_type": "markdown",
   "id": "2b7e4a18",
   "metadata": {},
   "source": [
    "### Interpretation\n",
    "\n",
    "Cluster 0 : Implies that with lower Inflation there will be a Higher Life Expectancy.\n",
    "\n",
    "Cluster 1 & 2 : Imply that with higher inflation rates the life expectancy of a country decreases.\n",
    "\n",
    "Cluster 3 : Extreme outliers across each cluster. Life expectancy higher as there is an outlier in cluster 2."
   ]
  },
  {
   "cell_type": "markdown",
   "id": "154a8111",
   "metadata": {},
   "source": [
    "## Including GDP"
   ]
  },
  {
   "cell_type": "code",
   "execution_count": 35,
   "id": "63bc0f9e",
   "metadata": {
    "ExecuteTime": {
     "end_time": "2025-09-11T10:30:07.532850Z",
     "start_time": "2025-09-11T10:30:07.527923Z"
    }
   },
   "outputs": [],
   "source": [
    "from mpl_toolkits.mplot3d import Axes3D\n",
    "\n",
    "X_3D = scaler.fit_transform(knn_df[['Inflation', 'Life_expectancy', 'GDP_per_capita']])\n",
    "\n",
    "kmeans_3D = KMeans(n_clusters=4, random_state=42)"
   ]
  },
  {
   "cell_type": "code",
   "execution_count": 36,
   "id": "70c65697c9c6f020",
   "metadata": {
    "ExecuteTime": {
     "end_time": "2025-09-11T10:30:19.962088Z",
     "start_time": "2025-09-11T10:30:19.911880Z"
    }
   },
   "outputs": [
    {
     "data": {
      "application/vnd.plotly.v1+json": {
       "config": {
        "plotlyServerURL": "https://plot.ly"
       },
       "data": [
        {
         "hovertemplate": "<b>%{hovertext}</b><br><br>Inflation=%{x}<br>Life_expectancy=%{y}<br>GDP_per_capita=%{z}<br>Cluster=%{marker.color}<extra></extra>",
         "hovertext": [
          "Africa Eastern and Southern",
          "Africa Western and Central",
          "Arab World",
          "Caribbean small states",
          "Central Europe and the Baltics",
          "Early-demographic dividend",
          "East Asia & Pacific",
          "East Asia & Pacific (excluding high income)",
          "East Asia & Pacific (IDA & IBRD countries)",
          "Euro area",
          "Europe & Central Asia",
          "Europe & Central Asia (excluding high income)",
          "Europe & Central Asia (IDA & IBRD countries)",
          "European Union",
          "Fragile and conflict affected situations",
          "Heavily indebted poor countries (HIPC)",
          "High income",
          "IBRD only",
          "IDA & IBRD total",
          "IDA blend",
          "IDA only",
          "IDA total",
          "Late-demographic dividend",
          "Latin America & Caribbean",
          "Latin America & Caribbean (excluding high income)",
          "Latin America & the Caribbean (IDA & IBRD countries)",
          "Least developed countries: UN classification",
          "Low & middle income",
          "Low income",
          "Lower middle income",
          "Middle East, North Africa, Afghanistan & Pakistan",
          "Middle East, North Africa, Afghanistan & Pakistan (excluding high income)",
          "Middle East, North Africa, Afghanistan & Pakistan (IDA & IBRD)",
          "Middle income",
          "North America",
          "OECD members",
          "Other small states",
          "Pacific island small states",
          "Post-demographic dividend",
          "Pre-demographic dividend",
          "Small states",
          "South Asia",
          "South Asia (IDA & IBRD)",
          "Sub-Saharan Africa",
          "Sub-Saharan Africa (excluding high income)",
          "Sub-Saharan Africa (IDA & IBRD countries)",
          "Upper middle income",
          "World",
          "Afghanistan",
          "Albania",
          "Algeria",
          "Angola",
          "Antigua and Barbuda",
          "Armenia",
          "Aruba",
          "Australia",
          "Austria",
          "Azerbaijan",
          "Bahamas, The",
          "Bahrain",
          "Bangladesh",
          "Barbados",
          "Belarus",
          "Belgium",
          "Belize",
          "Benin",
          "Bhutan",
          "Bolivia",
          "Bosnia and Herzegovina",
          "Botswana",
          "Brazil",
          "Brunei Darussalam",
          "Bulgaria",
          "Burkina Faso",
          "Burundi",
          "Cabo Verde",
          "Cambodia",
          "Cameroon",
          "Canada",
          "Central African Republic",
          "Chad",
          "Chile",
          "China",
          "Colombia",
          "Congo, Rep.",
          "Costa Rica",
          "Cote d'Ivoire",
          "Croatia",
          "Curacao",
          "Cyprus",
          "Czechia",
          "Denmark",
          "Djibouti",
          "Dominica",
          "Dominican Republic",
          "Ecuador",
          "Egypt, Arab Rep.",
          "El Salvador",
          "Equatorial Guinea",
          "Estonia",
          "Eswatini",
          "Ethiopia",
          "Fiji",
          "Finland",
          "France",
          "Gabon",
          "Gambia, The",
          "Georgia",
          "Germany",
          "Ghana",
          "Greece",
          "Grenada",
          "Guatemala",
          "Guinea",
          "Guinea-Bissau",
          "Guyana",
          "Haiti",
          "Honduras",
          "Hong Kong SAR, China",
          "Hungary",
          "Iceland",
          "India",
          "Indonesia",
          "Iran, Islamic Rep.",
          "Iraq",
          "Ireland",
          "Israel",
          "Italy",
          "Jamaica",
          "Japan",
          "Jordan",
          "Kazakhstan",
          "Kenya",
          "Kiribati",
          "Korea, Rep.",
          "Kosovo",
          "Kuwait",
          "Kyrgyz Republic",
          "Lao PDR",
          "Latvia",
          "Lebanon",
          "Lesotho",
          "Liberia",
          "Libya",
          "Lithuania",
          "Luxembourg",
          "Macao SAR, China",
          "Madagascar",
          "Malawi",
          "Malaysia",
          "Maldives",
          "Mali",
          "Malta",
          "Mauritania",
          "Mauritius",
          "Mexico",
          "Micronesia, Fed. Sts.",
          "Moldova",
          "Mongolia",
          "Montenegro",
          "Morocco",
          "Mozambique",
          "Myanmar",
          "Namibia",
          "Nepal",
          "Netherlands",
          "New Zealand",
          "Nicaragua",
          "Niger",
          "Nigeria",
          "North Macedonia",
          "Norway",
          "Oman",
          "Pakistan",
          "Palau",
          "Panama",
          "Papua New Guinea",
          "Paraguay",
          "Peru",
          "Philippines",
          "Poland",
          "Portugal",
          "Qatar",
          "Romania",
          "Russian Federation",
          "Rwanda",
          "Samoa",
          "San Marino",
          "Sao Tome and Principe",
          "Saudi Arabia",
          "Senegal",
          "Serbia",
          "Seychelles",
          "Sierra Leone",
          "Singapore",
          "Slovak Republic",
          "Slovenia",
          "Solomon Islands",
          "South Africa",
          "Spain",
          "Sri Lanka",
          "St. Kitts and Nevis",
          "St. Lucia",
          "St. Vincent and the Grenadines",
          "Sudan",
          "Sweden",
          "Switzerland",
          "Syrian Arab Republic",
          "Tanzania",
          "Thailand",
          "Timor-Leste",
          "Togo",
          "Tonga",
          "Trinidad and Tobago",
          "Tunisia",
          "Turkiye",
          "Uganda",
          "Ukraine",
          "United Arab Emirates",
          "United Kingdom",
          "United States",
          "Uruguay",
          "Uzbekistan",
          "Vanuatu",
          "Viet Nam",
          "West Bank and Gaza",
          "Zambia",
          "Zimbabwe"
         ],
         "legendgroup": "",
         "marker": {
          "color": {
           "bdata": "AQAAAAEAAAACAAAAAgAAAAAAAAACAAAAAAAAAAAAAAAAAAAAAAAAAAAAAAACAAAAAgAAAAAAAAABAAAAAQAAAAAAAAACAAAAAgAAAAEAAAABAAAAAQAAAAAAAAACAAAAAgAAAAIAAAABAAAAAgAAAAEAAAACAAAAAgAAAAIAAAACAAAAAgAAAAAAAAAAAAAAAgAAAAIAAAAAAAAAAQAAAAIAAAACAAAAAgAAAAEAAAABAAAAAQAAAAAAAAACAAAAAQAAAAAAAAAAAAAAAQAAAAAAAAAAAAAAAgAAAAAAAAAAAAAAAgAAAAIAAAAAAAAAAgAAAAAAAAACAAAAAAAAAAIAAAABAAAAAgAAAAIAAAAAAAAAAgAAAAIAAAAAAAAAAgAAAAEAAAABAAAAAAAAAAIAAAABAAAAAAAAAAEAAAABAAAAAAAAAAAAAAAAAAAAAQAAAAAAAAABAAAAAAAAAAAAAAAAAAAAAAAAAAAAAAABAAAAAgAAAAIAAAAAAAAAAgAAAAIAAAABAAAAAAAAAAEAAAABAAAAAgAAAAAAAAAAAAAAAgAAAAEAAAACAAAAAAAAAAEAAAAAAAAAAgAAAAIAAAABAAAAAQAAAAIAAAABAAAAAgAAAAAAAAAAAAAAAAAAAAIAAAACAAAAAwAAAAIAAAAAAAAAAAAAAAAAAAACAAAAAAAAAAAAAAACAAAAAQAAAAIAAAAAAAAAAAAAAAAAAAACAAAAAgAAAAIAAAAAAAAAAQAAAAMAAAACAAAAAAAAAAAAAAAAAAAAAQAAAAEAAAAAAAAAAAAAAAEAAAAAAAAAAgAAAAIAAAACAAAAAQAAAAIAAAACAAAAAAAAAAIAAAABAAAAAQAAAAEAAAACAAAAAAAAAAAAAAACAAAAAQAAAAEAAAAAAAAAAAAAAAAAAAABAAAAAgAAAAAAAAABAAAAAgAAAAAAAAACAAAAAAAAAAAAAAAAAAAAAgAAAAIAAAACAAAAAgAAAAAAAAACAAAAAAAAAAIAAAAAAAAAAgAAAAEAAAAAAAAAAAAAAAAAAAACAAAAAQAAAAAAAAAAAAAAAgAAAAIAAAACAAAAAwAAAAAAAAAAAAAAAgAAAAEAAAAAAAAAAgAAAAEAAAACAAAAAgAAAAIAAAACAAAAAQAAAAIAAAAAAAAAAAAAAAAAAAAAAAAAAgAAAAIAAAACAAAAAAAAAAEAAAADAAAA",
           "dtype": "i4"
          },
          "coloraxis": "coloraxis",
          "opacity": 0.5,
          "symbol": "circle"
         },
         "mode": "markers",
         "name": "",
         "scene": "scene",
         "showlegend": false,
         "type": "scatter3d",
         "x": {
          "bdata": "uDFRRnKUEkDen8f5vrr/P6ZW5KI1ePE/rji8TTkC8D+Td2aIBVEFQCuKF5oWFAZARkkxGX9D+z8l8SyIyRT/PwMIVCFx7v4/PvHdU1EP9z/sIkMZQzj8PzRNu/5wJQVA4OvtgW5oBUB+mqzfnhb6P9FsjLpWnwNAckmPl+9rBkBIQkzW29f5PwAdjAbadQRA0fd/0QlyBUDWZgikWdX/P+2P0/7R8AZAAF9VurrPBUDrPyQuSksBQCR1a35YBAJAJHVrflgEAkBIwbMHrbsAQKcbb043kQpAbYhF3yHvBUC7bDHLYK4GQFP9yDm5JQtAsiiu+lFg9T8sqs/2JTsFQLZ4oKUJCwhAe6UhnhScBUCyQ6Naghf+P/kbrIn12fs/Nw61dGT99T8smA6D44P2PwlpHyQD6vk/0WyMulafA0Bs+IzYaN/yP+7jPMIWCA1A7uM8whYIDUC7bDHLYK4GQLtsMctgrgZAu2wxy2CuBkC3YbzYVkf9P8k5n6EJpgFAuNv+R0JrAkDSWIzv05P2P6iBmU1xOv8/uoomabkUMUBGSq6H1eb2P1r6WXhbGPc//6tAIaQHEUCzG3mItMX5P7gen22Mfvg/ia6Ie3PiBEAiy1jCDO4DQDHj+cLWF/A/KXvZTTReFkAIyChUsmYQQGV6U/6CZBZAlf1zhDb99j8H8be94/HHPz78S4aAc+c/AF9VurrPBUCHAz/Kxm79P7HkTrhPAuI/WsWpi9MuBkCqF+ChIt0NQB6p20ZQ/ti/JDvVGnDUCEBsje46+90JwCkVrKEJ+uW/TmPJL+i08T8l8SyIyRT/P9FsjLpWnwNAqfBatzQw/z/CAxIhpXsFQM4RhC8gGu+/AB2MBtp1BEANQWCuoTEHQFde08EkLwxAyTmfoQmmAUDC1VHzs8QAQNQDO3C2tfG/ixVTlcCy6D/EXtsZSPoEQCN1vBIUBtA/g/XdMHPIBkAoFMAknULoPzkL5uXUjQpAs/uvIfAS+D9tJsCoO/j8P8A+kFtZBtE/VK+PvztOIkATYG9IcUizP7Y4LvEBfPg/oF37utM3AkD3tRa4vMgEQNJ+qBuIni9AR1rSBKBe/D/Z+/xQsGLwP5acloNpu/E/v86bMm+3A0A2IifWc3YcQIzDciZeaRNA5+RHI2wh9z+e03VfFpMcQMLvMnZGMdA/hde0+Qok4z+si3EzkZkNQNxkwTOl8CJA/Ztw+5iQzz/PrBUcprIAQBTWJRgrtDJAURdTC6d2EUD+IEmjzxAHQKg7JMNstQpAU40ePp0cCEALAF4aB9YNQMQRoTakPghAMi9O5iP0Q0D6lh6UsnfJv3Lv4j3PAu4/NcoSY2wx6z/TDyjAVY/jP15jxhKlPQ9ABrVsuG0A3j9OaQ61Ul7oP7LEDgORVRVAhukbp2P1FEB1t/QfYAL9v5C4lrQTg9g/4OvtgW5oBUCmVuSiNXjxP1Z6cG1RI/I/FCz4tpmUCkCLXmcbxH0GQLZ4oKUJCwhAp69U15K/FEDM5X/dXfc6QNVSuWokTAHA+FP2QBOtAkD+VDxOpOT7P5hMAE30AwZAqVXXsCpxFkDe4Tk53r0iQB/AhwBpNuU/S2iJKe8pzD+IBnvsQoj6v/S4oLngRfo/9+PN9ZZmAkCKQvUvQfbZP5P+DvFyFg1A4R57uhjI/j9b9+vr41kTQEZNg5JLNB1AuRWbF9wj1z8SAE5ErWrTP3JJj5fvawZAAoh5LW+mIUCYNsKUdscNQJVKZHxVRhZAoMzF1dARBUAJaR8kA+r5P7pHSiRSgRVAPerEaBjrA8DIm2De98omQFbUy0ishug/LzH014JXAUAjG+zWhGnfP5JstAkfKCVA+5RiqL8c0T9s/6d9sbnWv35L9A/sbQ9A8LE1BIkOBkAkdWt+WAQCQKiyuifzIgNA/an2aODRAUCGGtcOt6TVPxxQrsQfVeW/3/u/FnKfDkCdHrPIp+ERQFhMN4BzyApAiil1IThv7z9w6ooJ7j/eP3kIrPiH4R5A6AT9wy2/AMApzFCwain8P9WcuAhylv0/bWEZaNvp/D875D7XKJwtQGh2vMupK+I/k3dmiAVRBUB+mqzfnhb6Pxg4kC1eKPo/ybNNtVFpEEDiMYSodWLmP9HHG2omOgxAahlce4sX1b8GF42NNEDhPwGUJwDeN+0/AAAAAAAASUCt8Enk4Yv8P9D6wPSGOdc/2Do7H8vVKkB7zpm82LYLQIZeuUyFneY/vGsADpiu7j+ipCmB3/LlP2z4jNho3/I/rji8TTkC8D9hoExtW+EaQBr0aVuIWi5A7Y/T/tHwBkBzKSup/4sfQEUQfVi15f6/yOIbxUbP+z+8luv9z/78PzXiTgwohx9A8EpjQy0NLUBnYvkvpBkGQEune83YXQZA6/p3Um5I+T82395G9kwiQAAAAAAAAElA",
          "dtype": "f8"
         },
         "y": {
          "bdata": "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",
          "dtype": "f8"
         },
         "z": {
          "bdata": "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",
          "dtype": "f8"
         }
        }
       ],
       "layout": {
        "coloraxis": {
         "colorbar": {
          "title": {
           "text": "Cluster"
          }
         },
         "colorscale": [
          [
           0,
           "#0d0887"
          ],
          [
           0.1111111111111111,
           "#46039f"
          ],
          [
           0.2222222222222222,
           "#7201a8"
          ],
          [
           0.3333333333333333,
           "#9c179e"
          ],
          [
           0.4444444444444444,
           "#bd3786"
          ],
          [
           0.5555555555555556,
           "#d8576b"
          ],
          [
           0.6666666666666666,
           "#ed7953"
          ],
          [
           0.7777777777777778,
           "#fb9f3a"
          ],
          [
           0.8888888888888888,
           "#fdca26"
          ],
          [
           1,
           "#f0f921"
          ]
         ]
        },
        "legend": {
         "tracegroupgap": 0
        },
        "margin": {
         "t": 60
        },
        "scene": {
         "domain": {
          "x": [
           0,
           1
          ],
          "y": [
           0,
           1
          ]
         },
         "xaxis": {
          "title": {
           "text": "Inflation (%)"
          }
         },
         "yaxis": {
          "title": {
           "text": "Life Expectancy (years)"
          }
         },
         "zaxis": {
          "title": {
           "text": "GDP per capita (US$)"
          }
         }
        },
        "template": {
         "data": {
          "bar": [
           {
            "error_x": {
             "color": "#2a3f5f"
            },
            "error_y": {
             "color": "#2a3f5f"
            },
            "marker": {
             "line": {
              "color": "#E5ECF6",
              "width": 0.5
             },
             "pattern": {
              "fillmode": "overlay",
              "size": 10,
              "solidity": 0.2
             }
            },
            "type": "bar"
           }
          ],
          "barpolar": [
           {
            "marker": {
             "line": {
              "color": "#E5ECF6",
              "width": 0.5
             },
             "pattern": {
              "fillmode": "overlay",
              "size": 10,
              "solidity": 0.2
             }
            },
            "type": "barpolar"
           }
          ],
          "carpet": [
           {
            "aaxis": {
             "endlinecolor": "#2a3f5f",
             "gridcolor": "white",
             "linecolor": "white",
             "minorgridcolor": "white",
             "startlinecolor": "#2a3f5f"
            },
            "baxis": {
             "endlinecolor": "#2a3f5f",
             "gridcolor": "white",
             "linecolor": "white",
             "minorgridcolor": "white",
             "startlinecolor": "#2a3f5f"
            },
            "type": "carpet"
           }
          ],
          "choropleth": [
           {
            "colorbar": {
             "outlinewidth": 0,
             "ticks": ""
            },
            "type": "choropleth"
           }
          ],
          "contour": [
           {
            "colorbar": {
             "outlinewidth": 0,
             "ticks": ""
            },
            "colorscale": [
             [
              0,
              "#0d0887"
             ],
             [
              0.1111111111111111,
              "#46039f"
             ],
             [
              0.2222222222222222,
              "#7201a8"
             ],
             [
              0.3333333333333333,
              "#9c179e"
             ],
             [
              0.4444444444444444,
              "#bd3786"
             ],
             [
              0.5555555555555556,
              "#d8576b"
             ],
             [
              0.6666666666666666,
              "#ed7953"
             ],
             [
              0.7777777777777778,
              "#fb9f3a"
             ],
             [
              0.8888888888888888,
              "#fdca26"
             ],
             [
              1,
              "#f0f921"
             ]
            ],
            "type": "contour"
           }
          ],
          "contourcarpet": [
           {
            "colorbar": {
             "outlinewidth": 0,
             "ticks": ""
            },
            "type": "contourcarpet"
           }
          ],
          "heatmap": [
           {
            "colorbar": {
             "outlinewidth": 0,
             "ticks": ""
            },
            "colorscale": [
             [
              0,
              "#0d0887"
             ],
             [
              0.1111111111111111,
              "#46039f"
             ],
             [
              0.2222222222222222,
              "#7201a8"
             ],
             [
              0.3333333333333333,
              "#9c179e"
             ],
             [
              0.4444444444444444,
              "#bd3786"
             ],
             [
              0.5555555555555556,
              "#d8576b"
             ],
             [
              0.6666666666666666,
              "#ed7953"
             ],
             [
              0.7777777777777778,
              "#fb9f3a"
             ],
             [
              0.8888888888888888,
              "#fdca26"
             ],
             [
              1,
              "#f0f921"
             ]
            ],
            "type": "heatmap"
           }
          ],
          "histogram": [
           {
            "marker": {
             "pattern": {
              "fillmode": "overlay",
              "size": 10,
              "solidity": 0.2
             }
            },
            "type": "histogram"
           }
          ],
          "histogram2d": [
           {
            "colorbar": {
             "outlinewidth": 0,
             "ticks": ""
            },
            "colorscale": [
             [
              0,
              "#0d0887"
             ],
             [
              0.1111111111111111,
              "#46039f"
             ],
             [
              0.2222222222222222,
              "#7201a8"
             ],
             [
              0.3333333333333333,
              "#9c179e"
             ],
             [
              0.4444444444444444,
              "#bd3786"
             ],
             [
              0.5555555555555556,
              "#d8576b"
             ],
             [
              0.6666666666666666,
              "#ed7953"
             ],
             [
              0.7777777777777778,
              "#fb9f3a"
             ],
             [
              0.8888888888888888,
              "#fdca26"
             ],
             [
              1,
              "#f0f921"
             ]
            ],
            "type": "histogram2d"
           }
          ],
          "histogram2dcontour": [
           {
            "colorbar": {
             "outlinewidth": 0,
             "ticks": ""
            },
            "colorscale": [
             [
              0,
              "#0d0887"
             ],
             [
              0.1111111111111111,
              "#46039f"
             ],
             [
              0.2222222222222222,
              "#7201a8"
             ],
             [
              0.3333333333333333,
              "#9c179e"
             ],
             [
              0.4444444444444444,
              "#bd3786"
             ],
             [
              0.5555555555555556,
              "#d8576b"
             ],
             [
              0.6666666666666666,
              "#ed7953"
             ],
             [
              0.7777777777777778,
              "#fb9f3a"
             ],
             [
              0.8888888888888888,
              "#fdca26"
             ],
             [
              1,
              "#f0f921"
             ]
            ],
            "type": "histogram2dcontour"
           }
          ],
          "mesh3d": [
           {
            "colorbar": {
             "outlinewidth": 0,
             "ticks": ""
            },
            "type": "mesh3d"
           }
          ],
          "parcoords": [
           {
            "line": {
             "colorbar": {
              "outlinewidth": 0,
              "ticks": ""
             }
            },
            "type": "parcoords"
           }
          ],
          "pie": [
           {
            "automargin": true,
            "type": "pie"
           }
          ],
          "scatter": [
           {
            "fillpattern": {
             "fillmode": "overlay",
             "size": 10,
             "solidity": 0.2
            },
            "type": "scatter"
           }
          ],
          "scatter3d": [
           {
            "line": {
             "colorbar": {
              "outlinewidth": 0,
              "ticks": ""
             }
            },
            "marker": {
             "colorbar": {
              "outlinewidth": 0,
              "ticks": ""
             }
            },
            "type": "scatter3d"
           }
          ],
          "scattercarpet": [
           {
            "marker": {
             "colorbar": {
              "outlinewidth": 0,
              "ticks": ""
             }
            },
            "type": "scattercarpet"
           }
          ],
          "scattergeo": [
           {
            "marker": {
             "colorbar": {
              "outlinewidth": 0,
              "ticks": ""
             }
            },
            "type": "scattergeo"
           }
          ],
          "scattergl": [
           {
            "marker": {
             "colorbar": {
              "outlinewidth": 0,
              "ticks": ""
             }
            },
            "type": "scattergl"
           }
          ],
          "scattermap": [
           {
            "marker": {
             "colorbar": {
              "outlinewidth": 0,
              "ticks": ""
             }
            },
            "type": "scattermap"
           }
          ],
          "scattermapbox": [
           {
            "marker": {
             "colorbar": {
              "outlinewidth": 0,
              "ticks": ""
             }
            },
            "type": "scattermapbox"
           }
          ],
          "scatterpolar": [
           {
            "marker": {
             "colorbar": {
              "outlinewidth": 0,
              "ticks": ""
             }
            },
            "type": "scatterpolar"
           }
          ],
          "scatterpolargl": [
           {
            "marker": {
             "colorbar": {
              "outlinewidth": 0,
              "ticks": ""
             }
            },
            "type": "scatterpolargl"
           }
          ],
          "scatterternary": [
           {
            "marker": {
             "colorbar": {
              "outlinewidth": 0,
              "ticks": ""
             }
            },
            "type": "scatterternary"
           }
          ],
          "surface": [
           {
            "colorbar": {
             "outlinewidth": 0,
             "ticks": ""
            },
            "colorscale": [
             [
              0,
              "#0d0887"
             ],
             [
              0.1111111111111111,
              "#46039f"
             ],
             [
              0.2222222222222222,
              "#7201a8"
             ],
             [
              0.3333333333333333,
              "#9c179e"
             ],
             [
              0.4444444444444444,
              "#bd3786"
             ],
             [
              0.5555555555555556,
              "#d8576b"
             ],
             [
              0.6666666666666666,
              "#ed7953"
             ],
             [
              0.7777777777777778,
              "#fb9f3a"
             ],
             [
              0.8888888888888888,
              "#fdca26"
             ],
             [
              1,
              "#f0f921"
             ]
            ],
            "type": "surface"
           }
          ],
          "table": [
           {
            "cells": {
             "fill": {
              "color": "#EBF0F8"
             },
             "line": {
              "color": "white"
             }
            },
            "header": {
             "fill": {
              "color": "#C8D4E3"
             },
             "line": {
              "color": "white"
             }
            },
            "type": "table"
           }
          ]
         },
         "layout": {
          "annotationdefaults": {
           "arrowcolor": "#2a3f5f",
           "arrowhead": 0,
           "arrowwidth": 1
          },
          "autotypenumbers": "strict",
          "coloraxis": {
           "colorbar": {
            "outlinewidth": 0,
            "ticks": ""
           }
          },
          "colorscale": {
           "diverging": [
            [
             0,
             "#8e0152"
            ],
            [
             0.1,
             "#c51b7d"
            ],
            [
             0.2,
             "#de77ae"
            ],
            [
             0.3,
             "#f1b6da"
            ],
            [
             0.4,
             "#fde0ef"
            ],
            [
             0.5,
             "#f7f7f7"
            ],
            [
             0.6,
             "#e6f5d0"
            ],
            [
             0.7,
             "#b8e186"
            ],
            [
             0.8,
             "#7fbc41"
            ],
            [
             0.9,
             "#4d9221"
            ],
            [
             1,
             "#276419"
            ]
           ],
           "sequential": [
            [
             0,
             "#0d0887"
            ],
            [
             0.1111111111111111,
             "#46039f"
            ],
            [
             0.2222222222222222,
             "#7201a8"
            ],
            [
             0.3333333333333333,
             "#9c179e"
            ],
            [
             0.4444444444444444,
             "#bd3786"
            ],
            [
             0.5555555555555556,
             "#d8576b"
            ],
            [
             0.6666666666666666,
             "#ed7953"
            ],
            [
             0.7777777777777778,
             "#fb9f3a"
            ],
            [
             0.8888888888888888,
             "#fdca26"
            ],
            [
             1,
             "#f0f921"
            ]
           ],
           "sequentialminus": [
            [
             0,
             "#0d0887"
            ],
            [
             0.1111111111111111,
             "#46039f"
            ],
            [
             0.2222222222222222,
             "#7201a8"
            ],
            [
             0.3333333333333333,
             "#9c179e"
            ],
            [
             0.4444444444444444,
             "#bd3786"
            ],
            [
             0.5555555555555556,
             "#d8576b"
            ],
            [
             0.6666666666666666,
             "#ed7953"
            ],
            [
             0.7777777777777778,
             "#fb9f3a"
            ],
            [
             0.8888888888888888,
             "#fdca26"
            ],
            [
             1,
             "#f0f921"
            ]
           ]
          },
          "colorway": [
           "#636efa",
           "#EF553B",
           "#00cc96",
           "#ab63fa",
           "#FFA15A",
           "#19d3f3",
           "#FF6692",
           "#B6E880",
           "#FF97FF",
           "#FECB52"
          ],
          "font": {
           "color": "#2a3f5f"
          },
          "geo": {
           "bgcolor": "white",
           "lakecolor": "white",
           "landcolor": "#E5ECF6",
           "showlakes": true,
           "showland": true,
           "subunitcolor": "white"
          },
          "hoverlabel": {
           "align": "left"
          },
          "hovermode": "closest",
          "mapbox": {
           "style": "light"
          },
          "paper_bgcolor": "white",
          "plot_bgcolor": "#E5ECF6",
          "polar": {
           "angularaxis": {
            "gridcolor": "white",
            "linecolor": "white",
            "ticks": ""
           },
           "bgcolor": "#E5ECF6",
           "radialaxis": {
            "gridcolor": "white",
            "linecolor": "white",
            "ticks": ""
           }
          },
          "scene": {
           "xaxis": {
            "backgroundcolor": "#E5ECF6",
            "gridcolor": "white",
            "gridwidth": 2,
            "linecolor": "white",
            "showbackground": true,
            "ticks": "",
            "zerolinecolor": "white"
           },
           "yaxis": {
            "backgroundcolor": "#E5ECF6",
            "gridcolor": "white",
            "gridwidth": 2,
            "linecolor": "white",
            "showbackground": true,
            "ticks": "",
            "zerolinecolor": "white"
           },
           "zaxis": {
            "backgroundcolor": "#E5ECF6",
            "gridcolor": "white",
            "gridwidth": 2,
            "linecolor": "white",
            "showbackground": true,
            "ticks": "",
            "zerolinecolor": "white"
           }
          },
          "shapedefaults": {
           "line": {
            "color": "#2a3f5f"
           }
          },
          "ternary": {
           "aaxis": {
            "gridcolor": "white",
            "linecolor": "white",
            "ticks": ""
           },
           "baxis": {
            "gridcolor": "white",
            "linecolor": "white",
            "ticks": ""
           },
           "bgcolor": "#E5ECF6",
           "caxis": {
            "gridcolor": "white",
            "linecolor": "white",
            "ticks": ""
           }
          },
          "title": {
           "x": 0.05
          },
          "xaxis": {
           "automargin": true,
           "gridcolor": "white",
           "linecolor": "white",
           "ticks": "",
           "title": {
            "standoff": 15
           },
           "zerolinecolor": "white",
           "zerolinewidth": 2
          },
          "yaxis": {
           "automargin": true,
           "gridcolor": "white",
           "linecolor": "white",
           "ticks": "",
           "title": {
            "standoff": 15
           },
           "zerolinecolor": "white",
           "zerolinewidth": 2
          }
         }
        },
        "title": {
         "text": "Inflation vs Life Expectancy vs GDP Per Capita"
        }
       }
      }
     },
     "metadata": {},
     "output_type": "display_data"
    }
   ],
   "source": [
    "import plotly.express as px\n",
    "\n",
    "fig = px.scatter_3d(\n",
    "    knn_df, x='Inflation', y='Life_expectancy', z='GDP_per_capita', color='Cluster', hover_name='country', \n",
    "    opacity=0.5\n",
    ")\n",
    "\n",
    "fig.update_layout(\n",
    "    title='Inflation vs Life Expectancy vs GDP Per Capita',\n",
    "    scene=dict(\n",
    "        xaxis_title=\"Inflation (%)\",\n",
    "        yaxis_title=\"Life Expectancy (years)\",\n",
    "        zaxis_title=\"GDP per capita (US$)\"\n",
    "    )\n",
    ")\n",
    "\n",
    "fig.show()"
   ]
  },
  {
   "cell_type": "code",
   "execution_count": 37,
   "id": "f934b290",
   "metadata": {
    "ExecuteTime": {
     "end_time": "2025-09-11T10:30:08.402989Z",
     "start_time": "2025-09-11T10:30:08.310210Z"
    }
   },
   "outputs": [
    {
     "data": {
      "image/png": "[encoded data removed]",
      "text/plain": [
       "<Figure size 1000x800 with 1 Axes>"
      ]
     },
     "metadata": {},
     "output_type": "display_data"
    }
   ],
   "source": [
    "import plotly.express as px\n",
    "\n",
    "fig = plt.figure(figsize=(10,8))\n",
    "ax = fig.add_subplot(111, projection='3d')\n",
    "\n",
    "for cluster in knn_df['Cluster'].unique():\n",
    "    cluster_data = knn_df[knn_df[\"Cluster\"] == cluster]\n",
    "    ax.scatter(cluster_data[\"Inflation\"], cluster_data['GDP_per_capita'], cluster_data[\"Life_expectancy\"], label=f\"Cluster {cluster}\", alpha=0.7)\n",
    "\n",
    "countries = ['United Kingdom', 'Ireland', 'United States', 'China', 'Nigeria', 'Ghana', 'Australia', 'Cambodia', 'Vietnam', 'Mexico']\n",
    "\n",
    "#for _, row in knn_df[knn_df['country'].isin(countries)].iterrows():\n",
    "#    plt.text(row['Inflation']+0.5, row['Life_expectancy']+0.5, row['country'], fontsize=9, color='black')\n",
    "\n",
    "#plt.xscale('log')\n",
    "#plt.yscale('log')\n",
    "\n",
    "ax.set_xlabel('Inflation')\n",
    "ax.set_ylabel('GDP Per Capita')\n",
    "ax.set_zlabel('Life Expectancy')\n",
    "ax.set_title('Inflation vs Life Expectancy vs GDP Per Capita')\n",
    "ax.legend()\n",
    "plt.show()"
   ]
  }
 ],
 "metadata": {
  "kernelspec": {
   "display_name": ".venv",
   "language": "python",
   "name": "python3"
  },
  "language_info": {
   "codemirror_mode": {
    "name": "ipython",
    "version": 3
   },
   "file_extension": ".py",
   "mimetype": "text/x-python",
   "name": "python",
   "nbconvert_exporter": "python",
   "pygments_lexer": "ipython3",
   "version": "3.13.3"
  }
 },
 "nbformat": 4,
 "nbformat_minor": 5
}
