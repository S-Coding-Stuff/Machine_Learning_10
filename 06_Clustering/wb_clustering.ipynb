{
 "cells": [
  {
   "cell_type": "code",
   "id": "initial_id",
   "metadata": {
    "collapsed": true,
    "ExecuteTime": {
     "end_time": "2025-09-11T10:30:05.790029Z",
     "start_time": "2025-09-11T10:30:05.618018Z"
    }
   },
   "source": [
    "import wbdata\n",
    "import pandas as pd\n",
    "import datetime"
   ],
   "outputs": [],
   "execution_count": 2
  },
  {
   "cell_type": "code",
   "id": "3e7262f7",
   "metadata": {
    "ExecuteTime": {
     "end_time": "2025-09-11T10:30:05.813943Z",
     "start_time": "2025-09-11T10:30:05.800376Z"
    }
   },
   "source": [
    "print(wbdata.get_countries())"
   ],
   "outputs": [
    {
     "name": "stdout",
     "output_type": "stream",
     "text": [
      "id    name\n",
      "----  --------------------------------------------------------------------------------\n",
      "ABW   Aruba\n",
      "AFE   Africa Eastern and Southern\n",
      "AFG   Afghanistan\n",
      "AFR   Africa\n",
      "AFW   Africa Western and Central\n",
      "AGO   Angola\n",
      "ALB   Albania\n",
      "AND   Andorra\n",
      "ARB   Arab World\n",
      "ARE   United Arab Emirates\n",
      "ARG   Argentina\n",
      "ARM   Armenia\n",
      "ASM   American Samoa\n",
      "ATG   Antigua and Barbuda\n",
      "AUS   Australia\n",
      "AUT   Austria\n",
      "AZE   Azerbaijan\n",
      "BDI   Burundi\n",
      "BEA   East Asia & Pacific (IBRD-only countries)\n",
      "BEC   Europe & Central Asia (IBRD-only countries)\n",
      "BEL   Belgium\n",
      "BEN   Benin\n",
      "BFA   Burkina Faso\n",
      "BGD   Bangladesh\n",
      "BGR   Bulgaria\n",
      "BHI   IBRD countries classified as high income\n",
      "BHR   Bahrain\n",
      "BHS   Bahamas, The\n",
      "BIH   Bosnia and Herzegovina\n",
      "BLA   Latin America & the Caribbean (IBRD-only countries)\n",
      "BLR   Belarus\n",
      "BLZ   Belize\n",
      "BMN   Middle East, North Africa, Afghanistan & Pakistan (IBRD only)\n",
      "BMU   Bermuda\n",
      "BOL   Bolivia\n",
      "BRA   Brazil\n",
      "BRB   Barbados\n",
      "BRN   Brunei Darussalam\n",
      "BSS   Sub-Saharan Africa (IBRD-only countries)\n",
      "BTN   Bhutan\n",
      "BWA   Botswana\n",
      "CAA   Sub-Saharan Africa (IFC classification)\n",
      "CAF   Central African Republic\n",
      "CAN   Canada\n",
      "CEA   East Asia and the Pacific (IFC classification)\n",
      "CEB   Central Europe and the Baltics\n",
      "CEU   Europe and Central Asia (IFC classification)\n",
      "CHE   Switzerland\n",
      "CHI   Channel Islands\n",
      "CHL   Chile\n",
      "CHN   China\n",
      "CIV   Cote d'Ivoire\n",
      "CLA   Latin America and the Caribbean (IFC classification)\n",
      "CME   Middle East and North Africa (IFC classification)\n",
      "CMR   Cameroon\n",
      "COD   Congo, Dem. Rep.\n",
      "COG   Congo, Rep.\n",
      "COL   Colombia\n",
      "COM   Comoros\n",
      "CPV   Cabo Verde\n",
      "CRI   Costa Rica\n",
      "CSA   South Asia (IFC classification)\n",
      "CSS   Caribbean small states\n",
      "CUB   Cuba\n",
      "CUW   Curacao\n",
      "CYM   Cayman Islands\n",
      "CYP   Cyprus\n",
      "CZE   Czechia\n",
      "DEA   East Asia & Pacific (IDA-eligible countries)\n",
      "DEC   Europe & Central Asia (IDA-eligible countries)\n",
      "DEU   Germany\n",
      "DJI   Djibouti\n",
      "DLA   Latin America & the Caribbean (IDA-eligible countries)\n",
      "DMA   Dominica\n",
      "DMN   Middle East, North Africa, Afghanistan & Pakistan (IDA total)\n",
      "DNK   Denmark\n",
      "DNS   IDA countries in Sub-Saharan Africa not classified as fragile situations\n",
      "DOM   Dominican Republic\n",
      "DSA   South Asia (IDA-eligible countries)\n",
      "DSF   IDA countries in Sub-Saharan Africa classified as fragile situations\n",
      "DSS   Sub-Saharan Africa (IDA-eligible countries)\n",
      "DZA   Algeria\n",
      "EAP   East Asia & Pacific (excluding high income)\n",
      "EAR   Early-demographic dividend\n",
      "EAS   East Asia & Pacific\n",
      "ECA   Europe & Central Asia (excluding high income)\n",
      "ECS   Europe & Central Asia\n",
      "ECU   Ecuador\n",
      "EGY   Egypt, Arab Rep.\n",
      "EMU   Euro area\n",
      "ERI   Eritrea\n",
      "ESP   Spain\n",
      "EST   Estonia\n",
      "ETH   Ethiopia\n",
      "EUU   European Union\n",
      "FCS   Fragile and conflict affected situations\n",
      "FIN   Finland\n",
      "FJI   Fiji\n",
      "FRA   France\n",
      "FRO   Faroe Islands\n",
      "FSM   Micronesia, Fed. Sts.\n",
      "FXS   IDA countries classified as fragile situations, excluding Sub-Saharan Africa\n",
      "GAB   Gabon\n",
      "GBR   United Kingdom\n",
      "GEO   Georgia\n",
      "GHA   Ghana\n",
      "GIB   Gibraltar\n",
      "GIN   Guinea\n",
      "GMB   Gambia, The\n",
      "GNB   Guinea-Bissau\n",
      "GNQ   Equatorial Guinea\n",
      "GRC   Greece\n",
      "GRD   Grenada\n",
      "GRL   Greenland\n",
      "GTM   Guatemala\n",
      "GUM   Guam\n",
      "GUY   Guyana\n",
      "HIC   High income\n",
      "HKG   Hong Kong SAR, China\n",
      "HND   Honduras\n",
      "HPC   Heavily indebted poor countries (HIPC)\n",
      "HRV   Croatia\n",
      "HTI   Haiti\n",
      "HUN   Hungary\n",
      "IBB   IBRD, including blend\n",
      "IBD   IBRD only\n",
      "IBT   IDA & IBRD total\n",
      "IDA   IDA total\n",
      "IDB   IDA blend\n",
      "IDN   Indonesia\n",
      "IDX   IDA only\n",
      "IMN   Isle of Man\n",
      "IND   India\n",
      "INX   Not classified\n",
      "IRL   Ireland\n",
      "IRN   Iran, Islamic Rep.\n",
      "IRQ   Iraq\n",
      "ISL   Iceland\n",
      "ISR   Israel\n",
      "ITA   Italy\n",
      "JAM   Jamaica\n",
      "JOR   Jordan\n",
      "JPN   Japan\n",
      "KAZ   Kazakhstan\n",
      "KEN   Kenya\n",
      "KGZ   Kyrgyz Republic\n",
      "KHM   Cambodia\n",
      "KIR   Kiribati\n",
      "KNA   St. Kitts and Nevis\n",
      "KOR   Korea, Rep.\n",
      "KWT   Kuwait\n",
      "LAC   Latin America & Caribbean (excluding high income)\n",
      "LAO   Lao PDR\n",
      "LBN   Lebanon\n",
      "LBR   Liberia\n",
      "LBY   Libya\n",
      "LCA   St. Lucia\n",
      "LCN   Latin America & Caribbean\n",
      "LDC   Least developed countries: UN classification\n",
      "LIC   Low income\n",
      "LIE   Liechtenstein\n",
      "LKA   Sri Lanka\n",
      "LMC   Lower middle income\n",
      "LMY   Low & middle income\n",
      "LSO   Lesotho\n",
      "LTE   Late-demographic dividend\n",
      "LTU   Lithuania\n",
      "LUX   Luxembourg\n",
      "LVA   Latvia\n",
      "MAC   Macao SAR, China\n",
      "MAF   St. Martin (French part)\n",
      "MAR   Morocco\n",
      "MCO   Monaco\n",
      "MDA   Moldova\n",
      "MDE   Middle East (developing only)\n",
      "MDG   Madagascar\n",
      "MDV   Maldives\n",
      "MEA   Middle East, North Africa, Afghanistan & Pakistan\n",
      "MEX   Mexico\n",
      "MHL   Marshall Islands\n",
      "MIC   Middle income\n",
      "MKD   North Macedonia\n",
      "MLI   Mali\n",
      "MLT   Malta\n",
      "MMR   Myanmar\n",
      "MNA   Middle East, North Africa, Afghanistan & Pakistan (excluding high income)\n",
      "MNE   Montenegro\n",
      "MNG   Mongolia\n",
      "MNP   Northern Mariana Islands\n",
      "MOZ   Mozambique\n",
      "MRT   Mauritania\n",
      "MUS   Mauritius\n",
      "MWI   Malawi\n",
      "MYS   Malaysia\n",
      "NAC   North America\n",
      "NAF   North Africa\n",
      "NAM   Namibia\n",
      "NCL   New Caledonia\n",
      "NER   Niger\n",
      "NGA   Nigeria\n",
      "NIC   Nicaragua\n",
      "NLD   Netherlands\n",
      "NOR   Norway\n",
      "NPL   Nepal\n",
      "NRS   Non-resource rich Sub-Saharan Africa countries\n",
      "NRU   Nauru\n",
      "NXS   IDA countries not classified as fragile situations, excluding Sub-Saharan Africa\n",
      "NZL   New Zealand\n",
      "OED   OECD members\n",
      "OMN   Oman\n",
      "OSS   Other small states\n",
      "PAK   Pakistan\n",
      "PAN   Panama\n",
      "PER   Peru\n",
      "PHL   Philippines\n",
      "PLW   Palau\n",
      "PNG   Papua New Guinea\n",
      "POL   Poland\n",
      "PRE   Pre-demographic dividend\n",
      "PRI   Puerto Rico (US)\n",
      "PRK   Korea, Dem. People's Rep.\n",
      "PRT   Portugal\n",
      "PRY   Paraguay\n",
      "PSE   West Bank and Gaza\n",
      "PSS   Pacific island small states\n",
      "PST   Post-demographic dividend\n",
      "PYF   French Polynesia\n",
      "QAT   Qatar\n",
      "ROU   Romania\n",
      "RRS   Resource rich Sub-Saharan Africa countries\n",
      "RUS   Russian Federation\n",
      "RWA   Rwanda\n",
      "SAS   South Asia\n",
      "SAU   Saudi Arabia\n",
      "SDN   Sudan\n",
      "SEN   Senegal\n",
      "SGP   Singapore\n",
      "SLB   Solomon Islands\n",
      "SLE   Sierra Leone\n",
      "SLV   El Salvador\n",
      "SMR   San Marino\n",
      "SOM   Somalia\n",
      "SRB   Serbia\n",
      "SSA   Sub-Saharan Africa (excluding high income)\n",
      "SSD   South Sudan\n",
      "SSF   Sub-Saharan Africa\n",
      "SST   Small states\n",
      "STP   Sao Tome and Principe\n",
      "SUR   Suriname\n",
      "SVK   Slovak Republic\n",
      "SVN   Slovenia\n",
      "SWE   Sweden\n",
      "SWZ   Eswatini\n",
      "SXM   Sint Maarten (Dutch part)\n",
      "SXZ   Sub-Saharan Africa excluding South Africa\n",
      "SYC   Seychelles\n",
      "SYR   Syrian Arab Republic\n",
      "TCA   Turks and Caicos Islands\n",
      "TCD   Chad\n",
      "TEA   East Asia & Pacific (IDA & IBRD countries)\n",
      "TEC   Europe & Central Asia (IDA & IBRD countries)\n",
      "TGO   Togo\n",
      "THA   Thailand\n",
      "TJK   Tajikistan\n",
      "TKM   Turkmenistan\n",
      "TLA   Latin America & the Caribbean (IDA & IBRD countries)\n",
      "TLS   Timor-Leste\n",
      "TMN   Middle East, North Africa, Afghanistan & Pakistan (IDA & IBRD)\n",
      "TON   Tonga\n",
      "TSA   South Asia (IDA & IBRD)\n",
      "TSS   Sub-Saharan Africa (IDA & IBRD countries)\n",
      "TTO   Trinidad and Tobago\n",
      "TUN   Tunisia\n",
      "TUR   Turkiye\n",
      "TUV   Tuvalu\n",
      "TZA   Tanzania\n",
      "UGA   Uganda\n",
      "UKR   Ukraine\n",
      "UMC   Upper middle income\n",
      "URY   Uruguay\n",
      "USA   United States\n",
      "UZB   Uzbekistan\n",
      "VCT   St. Vincent and the Grenadines\n",
      "VEN   Venezuela, RB\n",
      "VGB   British Virgin Islands\n",
      "VIR   Virgin Islands (U.S.)\n",
      "VNM   Viet Nam\n",
      "VUT   Vanuatu\n",
      "WLD   World\n",
      "WSM   Samoa\n",
      "XKX   Kosovo\n",
      "XZN   Sub-Saharan Africa excluding South Africa and Nigeria\n",
      "YEM   Yemen, Rep.\n",
      "ZAF   South Africa\n",
      "ZMB   Zambia\n",
      "ZWE   Zimbabwe\n"
     ]
    }
   ],
   "execution_count": 3
  },
  {
   "cell_type": "code",
   "id": "912f0661",
   "metadata": {
    "ExecuteTime": {
     "end_time": "2025-09-11T10:30:05.838220Z",
     "start_time": "2025-09-11T10:30:05.819962Z"
    }
   },
   "source": [
    "indicators = {\n",
    "    \"NY.GDP.PCAP.CD\": \"GDP_per_capita\",\n",
    "    \"SP.DYN.LE00.IN\": \"Life_expectancy\",\n",
    "    \"FP.CPI.TOTL.ZG\": \"Inflation\",\n",
    "    \"SL.UEM.TOTL.ZS\": \"Unemployment\",\n",
    "    \"SP.POP.TOTL\": \"Population\"\n",
    "}\n",
    "\n",
    "data = wbdata.get_dataframe(indicators=indicators, date=('2019', '2019'))\n",
    "df = data.reset_index()"
   ],
   "outputs": [],
   "execution_count": 4
  },
  {
   "cell_type": "code",
   "id": "3db8527f",
   "metadata": {
    "ExecuteTime": {
     "end_time": "2025-09-11T10:30:05.852667Z",
     "start_time": "2025-09-11T10:30:05.843461Z"
    }
   },
   "source": [
    "df.head()"
   ],
   "outputs": [
    {
     "data": {
      "text/plain": [
       "                          country  GDP_per_capita  Life_expectancy  Inflation  \\\n",
       "0     Africa Eastern and Southern     1493.817938        63.857261   4.644967   \n",
       "1      Africa Western and Central     1798.340685        57.149847   1.983092   \n",
       "2                      Arab World     6638.485415        71.839893   1.091848   \n",
       "3          Caribbean small states    13938.202320        72.129260   1.000543   \n",
       "4  Central Europe and the Baltics    16551.848892        77.265914   2.664561   \n",
       "\n",
       "   Unemployment   Population  \n",
       "0      7.584419  675950189.0  \n",
       "1      4.395271  463365429.0  \n",
       "2     10.216098  444281315.0  \n",
       "3      8.162114    4443134.0  \n",
       "4      3.770153  101864274.0  "
      ],
      "text/html": [
       "<div>\n",
       "<style scoped>\n",
       "    .dataframe tbody tr th:only-of-type {\n",
       "        vertical-align: middle;\n",
       "    }\n",
       "\n",
       "    .dataframe tbody tr th {\n",
       "        vertical-align: top;\n",
       "    }\n",
       "\n",
       "    .dataframe thead th {\n",
       "        text-align: right;\n",
       "    }\n",
       "</style>\n",
       "<table border=\"1\" class=\"dataframe\">\n",
       "  <thead>\n",
       "    <tr style=\"text-align: right;\">\n",
       "      <th></th>\n",
       "      <th>country</th>\n",
       "      <th>GDP_per_capita</th>\n",
       "      <th>Life_expectancy</th>\n",
       "      <th>Inflation</th>\n",
       "      <th>Unemployment</th>\n",
       "      <th>Population</th>\n",
       "    </tr>\n",
       "  </thead>\n",
       "  <tbody>\n",
       "    <tr>\n",
       "      <th>0</th>\n",
       "      <td>Africa Eastern and Southern</td>\n",
       "      <td>1493.817938</td>\n",
       "      <td>63.857261</td>\n",
       "      <td>4.644967</td>\n",
       "      <td>7.584419</td>\n",
       "      <td>675950189.0</td>\n",
       "    </tr>\n",
       "    <tr>\n",
       "      <th>1</th>\n",
       "      <td>Africa Western and Central</td>\n",
       "      <td>1798.340685</td>\n",
       "      <td>57.149847</td>\n",
       "      <td>1.983092</td>\n",
       "      <td>4.395271</td>\n",
       "      <td>463365429.0</td>\n",
       "    </tr>\n",
       "    <tr>\n",
       "      <th>2</th>\n",
       "      <td>Arab World</td>\n",
       "      <td>6638.485415</td>\n",
       "      <td>71.839893</td>\n",
       "      <td>1.091848</td>\n",
       "      <td>10.216098</td>\n",
       "      <td>444281315.0</td>\n",
       "    </tr>\n",
       "    <tr>\n",
       "      <th>3</th>\n",
       "      <td>Caribbean small states</td>\n",
       "      <td>13938.202320</td>\n",
       "      <td>72.129260</td>\n",
       "      <td>1.000543</td>\n",
       "      <td>8.162114</td>\n",
       "      <td>4443134.0</td>\n",
       "    </tr>\n",
       "    <tr>\n",
       "      <th>4</th>\n",
       "      <td>Central Europe and the Baltics</td>\n",
       "      <td>16551.848892</td>\n",
       "      <td>77.265914</td>\n",
       "      <td>2.664561</td>\n",
       "      <td>3.770153</td>\n",
       "      <td>101864274.0</td>\n",
       "    </tr>\n",
       "  </tbody>\n",
       "</table>\n",
       "</div>"
      ]
     },
     "execution_count": 5,
     "metadata": {},
     "output_type": "execute_result"
    }
   ],
   "execution_count": 5
  },
  {
   "cell_type": "code",
   "id": "3c3eebaa",
   "metadata": {
    "ExecuteTime": {
     "end_time": "2025-09-11T10:30:06.097456Z",
     "start_time": "2025-09-11T10:30:05.871680Z"
    }
   },
   "source": [
    "%matplotlib inline\n",
    "\n",
    "import matplotlib.pyplot as plt\n",
    "import seaborn as sns\n",
    "\n",
    "plt.figure(figsize=(10,6))\n",
    "plt.scatter(df['Inflation'], df['Unemployment'], alpha=0.5)\n",
    "plt.xscale('log')\n",
    "plt.yscale('log')\n",
    "\n",
    "plt.xlabel('GDP Per Capita')\n",
    "plt.ylabel('Life Expectancy (Years)')\n",
    "plt.title('GDP vs Life Expectancy')\n",
    "plt.show()"
   ],
   "outputs": [
    {
     "data": {
      "text/plain": [
       "<Figure size 1000x600 with 1 Axes>"
      ],
      "image/png": "[encoded data removed]"
     },
     "metadata": {},
     "output_type": "display_data"
    }
   ],
   "execution_count": 6
  },
  {
   "cell_type": "code",
   "id": "1b0c943f",
   "metadata": {
    "ExecuteTime": {
     "end_time": "2025-09-11T10:30:06.113348Z",
     "start_time": "2025-09-11T10:30:06.104761Z"
    }
   },
   "source": [
    "knn_df = df[['country', 'Life_expectancy', 'Inflation', 'GDP_per_capita']].dropna()\n",
    "knn_df"
   ],
   "outputs": [
    {
     "data": {
      "text/plain": [
       "                            country  Life_expectancy   Inflation  \\\n",
       "0       Africa Eastern and Southern        63.857261    4.644967   \n",
       "1        Africa Western and Central        57.149847    1.983092   \n",
       "2                        Arab World        71.839893    1.091848   \n",
       "3            Caribbean small states        72.129260    1.000543   \n",
       "4    Central Europe and the Baltics        77.265914    2.664561   \n",
       "..                              ...              ...         ...   \n",
       "258                         Vanuatu        70.783000    2.762520   \n",
       "260                        Viet Nam        74.211000    2.795824   \n",
       "262              West Bank and Gaza        75.811000    1.580183   \n",
       "264                          Zambia        62.914000    9.150316   \n",
       "265                        Zimbabwe        61.060000  255.304991   \n",
       "\n",
       "     GDP_per_capita  \n",
       "0       1493.817938  \n",
       "1       1798.340685  \n",
       "2       6638.485415  \n",
       "3      13938.202320  \n",
       "4      16551.848892  \n",
       "..              ...  \n",
       "258     3207.446505  \n",
       "260     3440.900254  \n",
       "262     3656.858271  \n",
       "264     1258.986198  \n",
       "265     1683.913136  \n",
       "\n",
       "[228 rows x 4 columns]"
      ],
      "text/html": [
       "<div>\n",
       "<style scoped>\n",
       "    .dataframe tbody tr th:only-of-type {\n",
       "        vertical-align: middle;\n",
       "    }\n",
       "\n",
       "    .dataframe tbody tr th {\n",
       "        vertical-align: top;\n",
       "    }\n",
       "\n",
       "    .dataframe thead th {\n",
       "        text-align: right;\n",
       "    }\n",
       "</style>\n",
       "<table border=\"1\" class=\"dataframe\">\n",
       "  <thead>\n",
       "    <tr style=\"text-align: right;\">\n",
       "      <th></th>\n",
       "      <th>country</th>\n",
       "      <th>Life_expectancy</th>\n",
       "      <th>Inflation</th>\n",
       "      <th>GDP_per_capita</th>\n",
       "    </tr>\n",
       "  </thead>\n",
       "  <tbody>\n",
       "    <tr>\n",
       "      <th>0</th>\n",
       "      <td>Africa Eastern and Southern</td>\n",
       "      <td>63.857261</td>\n",
       "      <td>4.644967</td>\n",
       "      <td>1493.817938</td>\n",
       "    </tr>\n",
       "    <tr>\n",
       "      <th>1</th>\n",
       "      <td>Africa Western and Central</td>\n",
       "      <td>57.149847</td>\n",
       "      <td>1.983092</td>\n",
       "      <td>1798.340685</td>\n",
       "    </tr>\n",
       "    <tr>\n",
       "      <th>2</th>\n",
       "      <td>Arab World</td>\n",
       "      <td>71.839893</td>\n",
       "      <td>1.091848</td>\n",
       "      <td>6638.485415</td>\n",
       "    </tr>\n",
       "    <tr>\n",
       "      <th>3</th>\n",
       "      <td>Caribbean small states</td>\n",
       "      <td>72.129260</td>\n",
       "      <td>1.000543</td>\n",
       "      <td>13938.202320</td>\n",
       "    </tr>\n",
       "    <tr>\n",
       "      <th>4</th>\n",
       "      <td>Central Europe and the Baltics</td>\n",
       "      <td>77.265914</td>\n",
       "      <td>2.664561</td>\n",
       "      <td>16551.848892</td>\n",
       "    </tr>\n",
       "    <tr>\n",
       "      <th>...</th>\n",
       "      <td>...</td>\n",
       "      <td>...</td>\n",
       "      <td>...</td>\n",
       "      <td>...</td>\n",
       "    </tr>\n",
       "    <tr>\n",
       "      <th>258</th>\n",
       "      <td>Vanuatu</td>\n",
       "      <td>70.783000</td>\n",
       "      <td>2.762520</td>\n",
       "      <td>3207.446505</td>\n",
       "    </tr>\n",
       "    <tr>\n",
       "      <th>260</th>\n",
       "      <td>Viet Nam</td>\n",
       "      <td>74.211000</td>\n",
       "      <td>2.795824</td>\n",
       "      <td>3440.900254</td>\n",
       "    </tr>\n",
       "    <tr>\n",
       "      <th>262</th>\n",
       "      <td>West Bank and Gaza</td>\n",
       "      <td>75.811000</td>\n",
       "      <td>1.580183</td>\n",
       "      <td>3656.858271</td>\n",
       "    </tr>\n",
       "    <tr>\n",
       "      <th>264</th>\n",
       "      <td>Zambia</td>\n",
       "      <td>62.914000</td>\n",
       "      <td>9.150316</td>\n",
       "      <td>1258.986198</td>\n",
       "    </tr>\n",
       "    <tr>\n",
       "      <th>265</th>\n",
       "      <td>Zimbabwe</td>\n",
       "      <td>61.060000</td>\n",
       "      <td>255.304991</td>\n",
       "      <td>1683.913136</td>\n",
       "    </tr>\n",
       "  </tbody>\n",
       "</table>\n",
       "<p>228 rows × 4 columns</p>\n",
       "</div>"
      ]
     },
     "execution_count": 7,
     "metadata": {},
     "output_type": "execute_result"
    }
   ],
   "execution_count": 7
  },
  {
   "cell_type": "code",
   "id": "c90dda2b",
   "metadata": {
    "ExecuteTime": {
     "end_time": "2025-09-11T10:30:06.167942Z",
     "start_time": "2025-09-11T10:30:06.164085Z"
    }
   },
   "source": [
    "import numpy as np\n",
    "\n",
    "knn_df['Inflation'] = np.clip(knn_df['Inflation'], -20, 50)\n",
    "knn_df[\"GDP_per_capita\"] = np.clip(knn_df[\"GDP_per_capita\"], 0, 100000)"
   ],
   "outputs": [],
   "execution_count": 8
  },
  {
   "cell_type": "markdown",
   "id": "758dd84a",
   "metadata": {},
   "source": [
    "## Inflation vs Life Expectancy\n",
    "\n",
    "Taking four clusters for inflation vs life expectancy. Will check a silhouette score and utilise, but depending on plotting outcome may manually find a better metric"
   ]
  },
  {
   "cell_type": "code",
   "id": "a0cc2101",
   "metadata": {
    "ExecuteTime": {
     "end_time": "2025-09-11T10:30:07.071933Z",
     "start_time": "2025-09-11T10:30:06.173271Z"
    }
   },
   "source": [
    "from sklearn.cluster import KMeans\n",
    "from sklearn.preprocessing import StandardScaler\n",
    "from sklearn.metrics import silhouette_score\n",
    "\n",
    "scaler = StandardScaler()\n",
    "X = scaler.fit_transform(knn_df[['Inflation', 'Life_expectancy']])"
   ],
   "outputs": [],
   "execution_count": 9
  },
  {
   "cell_type": "code",
   "id": "8cf76338",
   "metadata": {
    "ExecuteTime": {
     "end_time": "2025-09-11T10:30:07.181994Z",
     "start_time": "2025-09-11T10:30:07.087582Z"
    }
   },
   "source": [
    "scores = {}\n",
    "for k in range(2, 6):\n",
    "    kmean_checker = KMeans(n_clusters=k, random_state=42)\n",
    "    labels = kmean_checker.fit_predict(X)\n",
    "    score = silhouette_score(X, labels)\n",
    "    scores[k] = score\n",
    "    print(f'k={k}, silhouette score = {score:.3f}')\n",
    "\n",
    "best_k = max(scores, key=scores.get)\n",
    "print(f'Best No. of Clusters: {best_k}')"
   ],
   "outputs": [
    {
     "name": "stdout",
     "output_type": "stream",
     "text": [
      "k=2, silhouette score = 0.495\n",
      "k=3, silhouette score = 0.506\n",
      "k=4, silhouette score = 0.403\n",
      "k=5, silhouette score = 0.449\n",
      "Best No. of Clusters: 3\n"
     ]
    }
   ],
   "execution_count": 10
  },
  {
   "cell_type": "code",
   "id": "944623ae",
   "metadata": {
    "ExecuteTime": {
     "end_time": "2025-09-11T10:30:07.196642Z",
     "start_time": "2025-09-11T10:30:07.190017Z"
    }
   },
   "source": [
    "kmeans = KMeans(n_clusters=4, random_state=42)\n",
    "knn_df['Cluster'] = kmeans.fit_predict(X)"
   ],
   "outputs": [],
   "execution_count": 11
  },
  {
   "cell_type": "code",
   "id": "10fb2778",
   "metadata": {
    "ExecuteTime": {
     "end_time": "2025-09-11T10:30:07.509684Z",
     "start_time": "2025-09-11T10:30:07.213775Z"
    }
   },
   "source": [
    "plt.figure(figsize=(10,6))\n",
    "for cluster in knn_df['Cluster'].unique():\n",
    "    cluster_data = knn_df[knn_df[\"Cluster\"] == cluster]\n",
    "    plt.scatter(cluster_data[\"Inflation\"], cluster_data[\"Life_expectancy\"], label=f\"Cluster {cluster}\", alpha=0.7)\n",
    "\n",
    "countries = ['United Kingdom', 'Ireland', 'United States', 'China', 'Nigeria', 'Ghana', 'Australia', 'Cambodia', 'Vietnam', 'Mexico']\n",
    "\n",
    "for _, row in knn_df[knn_df['country'].isin(countries)].iterrows():\n",
    "    plt.text(row['Inflation']+0.5, row['Life_expectancy']+0.5, row['country'], fontsize=9, color='black')\n",
    "\n",
    "plt.xscale('log')\n",
    "plt.yscale('log')\n",
    "\n",
    "plt.xlabel('Inflation (%)')\n",
    "plt.ylabel('Life Expectancy (Years)')\n",
    "plt.title('Inflation vs Life Expectancy')\n",
    "plt.legend()\n",
    "plt.show()\n"
   ],
   "outputs": [
    {
     "data": {
      "text/plain": [
       "<Figure size 1000x600 with 1 Axes>"
      ],
      "image/png": "[encoded data removed]"
     },
     "metadata": {},
     "output_type": "display_data"
    }
   ],
   "execution_count": 12
  },
  {
   "cell_type": "code",
   "id": "e17a6ec8",
   "metadata": {
    "ExecuteTime": {
     "end_time": "2025-09-11T10:30:07.523353Z",
     "start_time": "2025-09-11T10:30:07.517427Z"
    }
   },
   "source": [
    "print(knn_df.groupby('Cluster')[['Inflation', 'Life_expectancy']].mean())"
   ],
   "outputs": [
    {
     "name": "stdout",
     "output_type": "stream",
     "text": [
      "         Inflation  Life_expectancy\n",
      "Cluster                            \n",
      "0         1.537734        79.727291\n",
      "1         4.382220        61.644352\n",
      "2         3.078588        71.779760\n",
      "3        41.718405        66.237500\n"
     ]
    }
   ],
   "execution_count": 13
  },
  {
   "cell_type": "markdown",
   "id": "2b7e4a18",
   "metadata": {},
   "source": [
    "### Interpretation\n",
    "\n",
    "Cluster 0 : Implies that with lower Inflation there will be a Higher Life Expectancy.\n",
    "\n",
    "Cluster 1 & 2 : Imply that with higher inflation rates the life expectancy of a country decreases.\n",
    "\n",
    "Cluster 3 : Extreme outliers across each cluster. Life expectancy higher as there is an outlier in cluster 2."
   ]
  },
  {
   "cell_type": "markdown",
   "id": "154a8111",
   "metadata": {},
   "source": [
    "## Including GDP"
   ]
  },
  {
   "cell_type": "code",
   "id": "63bc0f9e",
   "metadata": {
    "ExecuteTime": {
     "end_time": "2025-09-11T10:30:07.532850Z",
     "start_time": "2025-09-11T10:30:07.527923Z"
    }
   },
   "source": [
    "from mpl_toolkits.mplot3d import Axes3D\n",
    "\n",
    "X_3D = scaler.fit_transform(knn_df[['Inflation', 'Life_expectancy', 'GDP_per_capita']])\n",
    "\n",
    "kmeans_3D = KMeans(n_clusters=4, random_state=42)"
   ],
   "outputs": [],
   "execution_count": 14
  },
  {
   "metadata": {
    "ExecuteTime": {
     "end_time": "2025-09-11T10:30:19.962088Z",
     "start_time": "2025-09-11T10:30:19.911880Z"
    }
   },
   "cell_type": "code",
   "source": [
    "import plotly.express as px\n",
    "\n",
    "fig = px.scatter_3d(\n",
    "    knn_df, x='Inflation', y='Life_expectancy', z='GDP_per_capita', color='Cluster', hover_name='country', opacity=0.7, symbol='Cluster'\n",
    ")\n",
    "\n",
    "fig.update_layout(\n",
    "    title='Inflation vs Life Expectancy vs GDP Per Capita',\n",
    "    scene=dict(\n",
    "        xaxis_title=\"Inflation (%)\",\n",
    "        yaxis_title=\"Life Expectancy (years)\",\n",
    "        zaxis_title=\"GDP per capita (US$)\"\n",
    "    )\n",
    ")\n",
    "\n",
    "fig.show()"
   ],
   "id": "70c65697c9c6f020",
   "outputs": [
    {
     "data": {
      "application/vnd.plotly.v1+json": {
       "data": [
        {
         "hovertemplate": "<b>%{hovertext}</b><br><br>Cluster=%{marker.color}<br>Inflation=%{x}<br>Life_expectancy=%{y}<br>GDP_per_capita=%{z}<extra></extra>",
         "hovertext": [
          "Africa Eastern and Southern",
          "Africa Western and Central",
          "Fragile and conflict affected situations",
          "Heavily indebted poor countries (HIPC)",
          "IDA blend",
          "IDA only",
          "IDA total",
          "Least developed countries: UN classification",
          "Low income",
          "Pre-demographic dividend",
          "Sub-Saharan Africa",
          "Sub-Saharan Africa (excluding high income)",
          "Sub-Saharan Africa (IDA & IBRD countries)",
          "Afghanistan",
          "Angola",
          "Benin",
          "Burkina Faso",
          "Burundi",
          "Cameroon",
          "Central African Republic",
          "Chad",
          "Congo, Rep.",
          "Cote d'Ivoire",
          "Djibouti",
          "Equatorial Guinea",
          "Eswatini",
          "Ethiopia",
          "Gambia, The",
          "Ghana",
          "Guinea",
          "Guinea-Bissau",
          "Haiti",
          "Kenya",
          "Lesotho",
          "Madagascar",
          "Malawi",
          "Mali",
          "Micronesia, Fed. Sts.",
          "Mozambique",
          "Myanmar",
          "Namibia",
          "Niger",
          "Nigeria",
          "Pakistan",
          "Papua New Guinea",
          "Sierra Leone",
          "South Africa",
          "Tanzania",
          "Togo",
          "Uganda",
          "Zambia"
         ],
         "legendgroup": "1",
         "marker": {
          "color": {
           "dtype": "i4",
           "bdata": "AQAAAAEAAAABAAAAAQAAAAEAAAABAAAAAQAAAAEAAAABAAAAAQAAAAEAAAABAAAAAQAAAAEAAAABAAAAAQAAAAEAAAABAAAAAQAAAAEAAAABAAAAAQAAAAEAAAABAAAAAQAAAAEAAAABAAAAAQAAAAEAAAABAAAAAQAAAAEAAAABAAAAAQAAAAEAAAABAAAAAQAAAAEAAAABAAAAAQAAAAEAAAABAAAAAQAAAAEAAAABAAAAAQAAAAEAAAABAAAAAQAAAAEAAAABAAAA"
          },
          "coloraxis": "coloraxis",
          "opacity": 0.7,
          "symbol": "circle"
         },
         "mode": "markers",
         "name": "1",
         "scene": "scene",
         "showlegend": true,
         "x": {
          "dtype": "f8",
          "bdata": "uDFRRnKUEkDen8f5vrr/P9FsjLpWnwNAckmPl+9rBkDWZgikWdX/P+2P0/7R8AZAAF9VurrPBUCnG29ON5EKQLtsMctgrgZA0WyMulafA0C7bDHLYK4GQLtsMctgrgZAu2wxy2CuBkC42/5HQmsCQLqKJmm5FDFAPvxLhoBz5z9sje46+90JwCkVrKEJ+uW/0WyMulafA0DCAxIhpXsFQM4RhC8gGu+/yTmfoQmmAUDUAztwtrXxvzkL5uXUjQpAtjgu8QF8+D/3tRa4vMgEQNJ+qBuIni9ANiIn1nN2HECe03VfFpMcQNxkwTOl8CJA/Ztw+5iQzz8U1iUYK7QyQIbpG6dj9RRAp69U15K/FECpVdewKnEWQN7hOTnevSJAiAZ77EKI+r/hHnu6GMj+P3JJj5fvawZAAoh5LW+mIUCYNsKUdscNQD3qxGgY6wPAyJtg3vfKJkCSbLQJHyglQH5L9A/sbQ9AO+Q+1yicLUDJs021UWkQQHvOmbzYtgtAoqQpgd/y5T/tj9P+0fAGQDbf3kb2TCJA"
         },
         "y": {
          "dtype": "f8",
          "bdata": "h9HcvLrtT0DeKrEtLpNMQKkx9Cc1FU9ASPGBlH6LT0DOiDpIuqlOQNhZQrpNZVBAnvKno6oFUEDhFlytPD5QQIj/QboSZk9AhGVyQEVHTkAaEj6ejZBOQJ88i8ikTU5AGhI+no2QTkCcxCCwcnhPQEoMAiuHhk9Ai2zn+6nxTUBkO99PjRdOQNejcD0KF09AKVyPwvXYTkBI4XoUroc/QMl2vp8af0pA+n5qvHSTT0BQjZduEiNOQKrx0k1iGFBAvHSTGAQmT0DNzMzMzOxNQIGVQ4tsb1BAF9nO91MbUECF61G4Hh1QQI2XbhKDsE1A+FPjpZsUT0CiRbbz/RRQQNV46SYxeE9AHVpkO9+fS0CNl24Sg8BPQEjhehSuP1BAsp3vp8abTUAGgZVDi4xQQLpJDAIrp05AaJHtfD+dUEDZzvdT48VPQIcW2c73A05A/tR46SaBSkAtsp3vp65QQHe+nxovVVBAlkOLbOfLTUAGgZVDi4RQQJzEILBygFBA16NwPQqHTkAtsp3vp5ZQQKJFtvP9dE9A"
         },
         "z": {
          "dtype": "f8",
          "bdata": "NSGekUVXl0CGW2vcXBmcQD+quX4Mqp1AH8sBt5DEjkClS8j3iFidQBzzgeNJqJJAJvWEjNFolkCX/6/NvkCRQPb8sg+Hd4RAxIFazHwSl0BPaw/vrEaZQChvF8jbpJpAT2sP76xGmUBVX4Hbowl/QNfHJyC2G6FAnXrdEEmrkUCzwnAa0+aHQDh19VyRR2pAOFcUC+hMmEC9CqXNpxN8QL/4UAix6otAplX8bdlwo0Dgc7RmibugQJN+PIpWKqZADFf8MyaUukDKFLS8QJKuQGnBaDKs5YlAn3XTd34Rh0AoRxsDURWhQLNQ86hdHZBAsKOVeWc7iUBdf8ErsCCVQBvu9uGhoZ5A34/5bzrokEBJmHr1GT1/QBHS4lceJ4JAtcBeNJhfjkAKL2mAUemrQLRZVYu9OIBA/nyHSvVHlkB92L7I63uyQEksk8qHjYFAoHCBd0+yoUBRPWjqqrmVQErkwqSLH6RANY0vfWVgikC+TeERtoW5QBYAAEBKnZBA6BTR0RXSiUDGKPeDXrGJQAlMAd7xq5NA"
         },
         "type": "scatter3d"
        },
        {
         "hovertemplate": "<b>%{hovertext}</b><br><br>Cluster=%{marker.color}<br>Inflation=%{x}<br>Life_expectancy=%{y}<br>GDP_per_capita=%{z}<extra></extra>",
         "hovertext": [
          "Arab World",
          "Caribbean small states",
          "Early-demographic dividend",
          "Europe & Central Asia (excluding high income)",
          "Europe & Central Asia (IDA & IBRD countries)",
          "IBRD only",
          "IDA & IBRD total",
          "Latin America & Caribbean",
          "Latin America & Caribbean (excluding high income)",
          "Latin America & the Caribbean (IDA & IBRD countries)",
          "Low & middle income",
          "Lower middle income",
          "Middle East, North Africa, Afghanistan & Pakistan",
          "Middle East, North Africa, Afghanistan & Pakistan (excluding high income)",
          "Middle East, North Africa, Afghanistan & Pakistan (IDA & IBRD)",
          "Middle income",
          "Other small states",
          "Pacific island small states",
          "Small states",
          "South Asia",
          "South Asia (IDA & IBRD)",
          "World",
          "Aruba",
          "Azerbaijan",
          "Bahamas, The",
          "Bangladesh",
          "Belarus",
          "Belize",
          "Bhutan",
          "Bolivia",
          "Botswana",
          "Brazil",
          "Bulgaria",
          "Cambodia",
          "Dominica",
          "Dominican Republic",
          "Egypt, Arab Rep.",
          "El Salvador",
          "Fiji",
          "Gabon",
          "Georgia",
          "Grenada",
          "Guatemala",
          "Guyana",
          "Honduras",
          "India",
          "Indonesia",
          "Iraq",
          "Jamaica",
          "Kazakhstan",
          "Kiribati",
          "Kyrgyz Republic",
          "Lao PDR",
          "Latvia",
          "Libya",
          "Mauritania",
          "Mauritius",
          "Mexico",
          "Moldova",
          "Mongolia",
          "Morocco",
          "Nepal",
          "Nicaragua",
          "Palau",
          "Paraguay",
          "Philippines",
          "Romania",
          "Russian Federation",
          "Rwanda",
          "Samoa",
          "Sao Tome and Principe",
          "Senegal",
          "Seychelles",
          "Solomon Islands",
          "St. Kitts and Nevis",
          "St. Lucia",
          "St. Vincent and the Grenadines",
          "Syrian Arab Republic",
          "Timor-Leste",
          "Tonga",
          "Trinidad and Tobago",
          "Tunisia",
          "Turkiye",
          "Ukraine",
          "Uzbekistan",
          "Vanuatu",
          "Viet Nam"
         ],
         "legendgroup": "2",
         "marker": {
          "color": {
           "dtype": "i4",
           "bdata": "AgAAAAIAAAACAAAAAgAAAAIAAAACAAAAAgAAAAIAAAACAAAAAgAAAAIAAAACAAAAAgAAAAIAAAACAAAAAgAAAAIAAAACAAAAAgAAAAIAAAACAAAAAgAAAAIAAAACAAAAAgAAAAIAAAACAAAAAgAAAAIAAAACAAAAAgAAAAIAAAACAAAAAgAAAAIAAAACAAAAAgAAAAIAAAACAAAAAgAAAAIAAAACAAAAAgAAAAIAAAACAAAAAgAAAAIAAAACAAAAAgAAAAIAAAACAAAAAgAAAAIAAAACAAAAAgAAAAIAAAACAAAAAgAAAAIAAAACAAAAAgAAAAIAAAACAAAAAgAAAAIAAAACAAAAAgAAAAIAAAACAAAAAgAAAAIAAAACAAAAAgAAAAIAAAACAAAAAgAAAAIAAAACAAAAAgAAAAIAAAACAAAAAgAAAAIAAAACAAAAAgAAAAIAAAACAAAA"
          },
          "coloraxis": "coloraxis",
          "opacity": 0.7,
          "symbol": "diamond"
         },
         "mode": "markers",
         "name": "2",
         "scene": "scene",
         "showlegend": true,
         "x": {
          "dtype": "f8",
          "bdata": "plbkojV48T+uOLxNOQLwPyuKF5oWFAZANE27/nAlBUDg6+2BbmgFQAAdjAbadQRA0fd/0QlyBUAkdWt+WAQCQCR1a35YBAJASMGzB627AEBtiEXfIe8FQFP9yDm5JQtAsiiu+lFg9T8sqs/2JTsFQLZ4oKUJCwhAe6UhnhScBUA3DrV0ZP31PyyYDoPjg/Y/bPiM2Gjf8j/u4zzCFggNQO7jPMIWCA1AyTmfoQmmAUD/q0AhpAcRQImuiHtz4gRAIstYwgzuA0Ape9lNNF4WQGV6U/6CZBZAB/G3vePxxz8AX1W6us8FQIcDP8rGbv0/WsWpi9MuBkCqF+ChIt0NQCQ71Rpw1AhAJfEsiMkU/z+z+68h8BL4P20mwKg7+Pw/VK+PvztOIkATYG9IcUizP0da0gSgXvw/v86bMm+3A0CMw3ImXmkTQIXXtPkKJOM/rItxM5GZDUDPrBUcprIAQFEXUwundhFACwBeGgfWDUDEEaE2pD4IQPqWHpSyd8m/XmPGEqU9D0CyxA4DkVUVQHW39B9gAv2/VnpwbVEj8j8ULPi2mZQKQIteZxvEfQZA1VK5aiRMAcD34831lmYCQIpC9S9B9tk/k/4O8XIWDUBb9+vr41kTQEZNg5JLNB1AEgBORK1q0z+VSmR8VUYWQLpHSiRSgRVA+5RiqL8c0T/wsTUEiQ4GQKiyuifzIgNA3/u/FnKfDkCdHrPIp+ERQFhMN4BzyApAiil1IThv7z95CKz4h+EeQCnMULBqKfw/bWEZaNvp/D8YOJAtXij6P2oZXHuLF9W/BheNjTRA4T8BlCcA3jftP9g6Ox/L1SpAvGsADpiu7j9s+IzYaN/yP644vE05AvA/YaBMbVvhGkAa9GlbiFouQHMpK6n/ix9A8EpjQy0NLUBnYvkvpBkGQEune83YXQZA"
         },
         "y": {
          "dtype": "f8",
          "bdata": "/QGxz8D1UUBr0cLNRQhSQF9yyfzptVFA9i0xUo60UkCi0AeQA6ZSQFacXp8FglJACEeiyjvZUUAii/iXEs1SQJ2E1VtJw1JAupweN3LIUkDVYuK2q9dRQCXGh9ysI1FAzVHWjpvPUUCOEEQRuJpRQGfgeWxTmFFAon/37yIMUkDcZI96DCpSQKQbKB0ZKVFAgcqbvQ8AUkDwOpsP2L9RQPA6mw/Yv1FA8rj7OZw3UkDwp8ZLNwFTQMP1KFyPUlJAJzEIrBzaUUAAAAAAAChSQPBF6F6EjlJAsHJoke0kUkC4HoXrUQBSQBSuR+F69FBAppvEILDKUECyne+nxvNSQEbjcjQux1JA46WbxCCIUUDsUbgehdNRQLpJDAIrR1JAEoPAyqHNUUBmZmZmZu5RQH9qvHSTwFBAIbByaJHVUEDD9Shcj4pSQKAaL90kvlJAN4lBYOXoUUA/NV66SURRQA4tsp3vB1JAObTIdr6vUUB1kxgEVpZRQEjhehSuz1FANV66SQziUUAnMQisHGpSQIGVQ4tsd1BAZmZmZmbmUUD8qfHSTfpQQLocjcvR2FJATmIQWDk8UkApXI/C9ehQQKCD8TkYj1JAUrgeheuhUkDdJAaBlYtRQGJyNiZnw1FASOF6FK6PUkBCYOXQIlNRQDeJQWDlcFJAAiuHFtk+UUCYbhKDwGpSQOxRuB6Fa1FAheRtSN7mUkCG6lWoXkVSQE5iEFg5rFBA8KfGSzeRUUCYbhKDwAJRQJhuEoPA6lBAIXQvQveCUkAQWDm0yH5RQMP1KFyP4lFADi2yne8PUkBWDi2ynb9RQK5H4XoUvlFAObTIdr6fUECmm8QgsBJSQC/dJAaBNVJAdZMYBFbmUkC6SQwCK29TQHsUrkfhelJAy6FFtvMFUkAnMQisHLJRQC/dJAaBjVJA"
         },
         "z": {
          "dtype": "f8",
          "bdata": "O9EgRHzuuUAC1KDlGTnLQI+dJNelrqtAemff/qKEt0DBC8JON6XBQFcyeU70dblA7XyO0ZQxtED0xEEpHT/BQMRkX8M8JcBAmsFBPnnnwEDcZ0FEbCizQKw6OJbo06BAHoM6aH37tEBJuwqtveSkQByjCC8e16RAC/2YGHS+tEAsHrI3lSPJQLXIyTpSSrBALRLBXkFbx0BxC3SYHiagQHELdJgeJqBAA+Y8Y2k4xkCnJO4fDV7eQI74o/PAxbJAwyGXyApt4ECoTYkSmaOgQN5mT/3FtbpA8ueqRAwuuECbznN+wvGrQHru+8HKX6tAEwC47RYEvEB3onyo6qLBQCBssvdmQsRABo5VDcFjoUDYf+Axk4nCQCDxCigE979AqpzAU/olp0Askw7hHeCwQBI4oSPUPrdANiLTuy0RvUChnHyESIWyQPMbRX5lb8RAZkWKX/+fsUCixSIO0wW5QBBMpaanjKNAVDCd7Lbln0Ce6e7U8gqwQLuRZFvbJ7ZA+3HEND7ntUA/I5IlkHjCQGBmBar9W5tAj9P0Qf83lkBLJ0FBpDqkQCPlBWm+49BAa+Yu8ph1w0ARLad0SpybQKudU1ugRcZAuvv8FcdAxEB7P+2MVTWxQAp8as2L+7BAAAAAADJoq0DuE7dgksySQGWZW2h7mp5A7O26CpnwzkD7lUGXLr22QDHoCTmUkapAf22ULARgyUAAAADA2VvGQGxExEppUIlAlA3QPfH/sEATH9A3LD2eQF9t6KO5XJZAk66MwmCx0kCkIDx+VF+hQKPeOILfCtdACawApQcJx0BMxXUQTBLBQFYx3jMoVpFA6UqjVHVpmECQeS0Y2USyQKCP1UVe49BAeLk5iL6Rq0A2cERiuP/BQAsAACC5R6xAS2HsCorln0D2lD2c5A6pQPxhD+7M4apA"
         },
         "type": "scatter3d"
        },
        {
         "hovertemplate": "<b>%{hovertext}</b><br><br>Cluster=%{marker.color}<br>Inflation=%{x}<br>Life_expectancy=%{y}<br>GDP_per_capita=%{z}<extra></extra>",
         "hovertext": [
          "Central Europe and the Baltics",
          "East Asia & Pacific",
          "East Asia & Pacific (excluding high income)",
          "East Asia & Pacific (IDA & IBRD countries)",
          "Euro area",
          "Europe & Central Asia",
          "European Union",
          "High income",
          "Late-demographic dividend",
          "North America",
          "OECD members",
          "Post-demographic dividend",
          "Upper middle income",
          "Albania",
          "Algeria",
          "Antigua and Barbuda",
          "Armenia",
          "Australia",
          "Austria",
          "Bahrain",
          "Barbados",
          "Belgium",
          "Bosnia and Herzegovina",
          "Brunei Darussalam",
          "Cabo Verde",
          "Canada",
          "Chile",
          "China",
          "Colombia",
          "Costa Rica",
          "Croatia",
          "Curacao",
          "Cyprus",
          "Czechia",
          "Denmark",
          "Ecuador",
          "Estonia",
          "Finland",
          "France",
          "Germany",
          "Greece",
          "Hong Kong SAR, China",
          "Hungary",
          "Iceland",
          "Ireland",
          "Israel",
          "Italy",
          "Japan",
          "Jordan",
          "Korea, Rep.",
          "Kosovo",
          "Kuwait",
          "Lebanon",
          "Lithuania",
          "Luxembourg",
          "Macao SAR, China",
          "Malaysia",
          "Maldives",
          "Malta",
          "Montenegro",
          "Netherlands",
          "New Zealand",
          "North Macedonia",
          "Norway",
          "Oman",
          "Panama",
          "Peru",
          "Poland",
          "Portugal",
          "Qatar",
          "San Marino",
          "Saudi Arabia",
          "Serbia",
          "Singapore",
          "Slovak Republic",
          "Slovenia",
          "Spain",
          "Sri Lanka",
          "Sweden",
          "Switzerland",
          "Thailand",
          "United Arab Emirates",
          "United Kingdom",
          "United States",
          "Uruguay",
          "West Bank and Gaza"
         ],
         "legendgroup": "0",
         "marker": {
          "color": {
           "dtype": "i4",
           "bdata": "AAAAAAAAAAAAAAAAAAAAAAAAAAAAAAAAAAAAAAAAAAAAAAAAAAAAAAAAAAAAAAAAAAAAAAAAAAAAAAAAAAAAAAAAAAAAAAAAAAAAAAAAAAAAAAAAAAAAAAAAAAAAAAAAAAAAAAAAAAAAAAAAAAAAAAAAAAAAAAAAAAAAAAAAAAAAAAAAAAAAAAAAAAAAAAAAAAAAAAAAAAAAAAAAAAAAAAAAAAAAAAAAAAAAAAAAAAAAAAAAAAAAAAAAAAAAAAAAAAAAAAAAAAAAAAAAAAAAAAAAAAAAAAAAAAAAAAAAAAAAAAAAAAAAAAAAAAAAAAAAAAAAAAAAAAAAAAAAAAAAAAAAAAAAAAAAAAAAAAAAAAAAAAAAAAAAAAAAAAAAAAAAAAAAAAAAAAAAAAAAAAAAAAAAAAAAAAAAAAAAAAAAAAAAAAAAAAAAAAAAAAAAAAAAAAAAAAAAAAA="
          },
          "coloraxis": "coloraxis",
          "opacity": 0.7,
          "symbol": "square"
         },
         "mode": "markers",
         "name": "0",
         "scene": "scene",
         "showlegend": true,
         "x": {
          "dtype": "f8",
          "bdata": "k3dmiAVRBUBGSTEZf0P7PyXxLIjJFP8/AwhUIXHu/j8+8d1TUQ/3P+wiQxlDOPw/fpqs354W+j9IQkzW29f5P+s/JC5KSwFAskOjWoIX/j/5G6yJ9dn7PwlpHyQD6vk/t2G82FZH/T/SWIzv05P2P6iBmU1xOv8/Rkquh9Xm9j9a+ll4Wxj3P7MbeYi0xfk/uB6fbYx++D8x4/nC1hfwPwjIKFSyZhBAlf1zhDb99j+x5E64TwLiPx6p20ZQ/ti/TmPJL+i08T+p8Fq3NDD/PwAdjAbadQRADUFgrqExB0BXXtPBJC8MQMLVUfOzxABAixVTlcCy6D/EXtsZSPoEQCN1vBIUBtA/g/XdMHPIBkAoFMAknULoP8A+kFtZBtE/oF37utM3AkDZ+/xQsGLwP5acloNpu/E/5+RHI2wh9z/C7zJ2RjHQP/4gSaPPEAdAqDskw2y1CkBTjR4+nRwIQHLv4j3PAu4/NcoSY2wx6z/TDyjAVY/jPwa1bLhtAN4/TmkOtVJe6D+QuJa0E4PYP+Dr7YFuaAVAplbkojV48T+2eKClCQsIQPhT9kATrQJA/lQ8TqTk+z+YTABN9AMGQB/AhwBpNuU/S2iJKe8pzD/0uKC54EX6P7kVmxfcI9c/oMzF1dARBUAJaR8kA+r5P1bUy0ishug/LzH014JXAUAjG+zWhGnfP2z/p32xuda/JHVrflgEAkD9qfZo4NEBQIYa1w63pNU/HFCuxB9V5b9w6ooJ7j/eP+gE/cMtvwDA1Zy4CHKW/T9odrzLqSviP5N3ZogFUQVAfpqs354W+j/iMYSodWLmP9HHG2omOgxArfBJ5OGL/D/Q+sD0hjnXP4ZeuUyFneY/RRB9WLXl/r/I4hvFRs/7P7yW6/3P/vw/NeJODCiHH0Dr+ndSbkj5Pw=="
         },
         "y": {
          "dtype": "f8",
          "bdata": "6Uv3vARRU0BOW8FQhSVTQGUu48k28VJAoDM3c3nzUkB/p5Jr8pFUQHTFKSJ5k1NAqX3b6HFUVEBiKnWYwwxUQBL0nZrjP1NAi3eI2InIU0CQyHdarw9UQN2mXQIWPlRAdM9QA+MBU0DZzvdT491TQM/3U+Ol61JAmG4Sg8BKU0AvR+NyNA5TQJqZmZmZuVRA2JqUrUl5VECgGi/dJB5UQEjhehSuH1NAPwH7E7B/VEDwp8ZLN1lTQEJg5dAiw1JA2/l+arzcUkAdlqdheYpUQNv5fmq8FFRAXI/C9Sh8U0CYbhKDwDJTQG3n+6nxElRAjMblaFyOU0BzaJHtfB9TQJMYBFYOXVRATcXqVKzOU0B7DM7H4FxUQPyp8dJNUlNAjtqVqF2pU0BfhO5F6H5UQFasTsXqtFRAFbUrUbtSVEBpXI7G5WhUQBuYn4H5SVVAMS5H43IUU0AoVqdidcpUQDFMz8L0rFRA9DE4H4OzVECjgP0J2N9UQMTkbEzOFlVAj8L1KFw3U0DwRehehM5UQA4tsp3vT1NAwAfhexB+VEBaZDvfT41TQJO3IXkbElNAaVyOxuWoVEAakrcheftUQJqZmZmZ+VJAaJHtfD/tU0BtV6J2JapUQCxRuxK1K1NARuNyNC6HVECjcTkal4NUQMvlaFyOJlNAoYrVqVi9VEAGgZVDi/xTQDeJQWDloFNAmpmZmZkRU0BbmJ6F6XlTQA7TszA9a1RAFK5H4Xq8VECcxCCwclBVQHnpJjEIlFNAPxC/A/H7UkClZ2F6FuZUQIzVqVidalNAgPgdiN9hVEAXq1OxOvVUQOkmMQisLFNA6WNwPgbHVEBbmJ6F6flUQPhT46WbTFNAoBov3SSmVEBNLq2xn1dUQFS2JmVrslNA1XjpJjFgU0CWQ4ts5/NSQA=="
         },
         "z": {
          "dtype": "f8",
          "bdata": "Rv89VPYp0EAGiZ8tI53GQEjvR0c4L8BAjGdIFLRdwED00VZbkCXjQPcASKraY9hA3H7IntRF4UA2TQj37zDkQBfX2MMZwMNAclRxmVnp7kC9NohvwGTjQK2HEw4fZeZA/H5hJ7PjwEDwVdE1blS1QGrCQRN0dLFAqZbZ0Rd00kB+dXyXOvWxQH0/DXWW1+pACZbf1L9b6EDwsGab757aQLKzQ4DuGdRAh7CK7ZPP5kCJnp0WYOq3QBxlf6yktt1AdWD5+sccsUDjmavRG6LmQABHib3bT8xAkcpoUnMzxEC11Y+ii0i5QDrHsM5XKslAKFntiuhlzkD1VerwK8XSQAAAAGDDAd1AJiweBK5/10Blh7uFiAHtQCLnT8IOPbhAlMhQAlB110COn+3IxZznQHJsjR0Ju+NAx3YOs/tA50DMi4UN1+HSQMs4ygngnOdAkZveBzed0EDU1JHHQ7bwQH83FhUj+fNAKMYfNFSb5UAz7zs9mYLgQM2J0Z3+u+NA3lJXSR1KsEA4jZGumiffQJK+8kX/P7FAtmd26/f23kDNMqSl8GTBQMlCXNcyJtNAAAAAAABq+EASyc8v+wL0QCXKuIsYVMVA/80Z3iLuxkAyjRvAeqnfQJn84h0+RcFATeDv0lwm6kCv8adaZ+PkQC4EWLfbPrpAHApUbOmo8kDgWjruC7vSQAzVMwZ6F9BAgT61DgJ9u0AvBqPSQgHPQFtatDnXy9ZA18tS0pRR8EBpHDxkYMTmQD5qyMay39xAui1mC6JLvkAQwzibABrwQH44I8aD89JAnl5BzIo12UBAcImSoRbdQB6PgDzl469ABhWRfKFH6UAWLYDlnon0QN0w71Kytb1Ad1xQiG6b5UC0sI0SQOXkQE/yZJx+2e9AJdwj1O7i0UBuU1hvt5GsQA=="
         },
         "type": "scatter3d"
        },
        {
         "hovertemplate": "<b>%{hovertext}</b><br><br>Cluster=%{marker.color}<br>Inflation=%{x}<br>Life_expectancy=%{y}<br>GDP_per_capita=%{z}<extra></extra>",
         "hovertext": [
          "Iran, Islamic Rep.",
          "Liberia",
          "Sudan",
          "Zimbabwe"
         ],
         "legendgroup": "3",
         "marker": {
          "color": {
           "dtype": "i4",
           "bdata": "AwAAAAMAAAADAAAAAwAAAA=="
          },
          "coloraxis": "coloraxis",
          "opacity": 0.7,
          "symbol": "x"
         },
         "mode": "markers",
         "name": "3",
         "scene": "scene",
         "showlegend": true,
         "x": {
          "dtype": "f8",
          "bdata": "Mi9O5iP0Q0DM5X/dXfc6QAAAAAAAAElAAAAAAAAASUA="
         },
         "y": {
          "dtype": "f8",
          "bdata": "H4XrUbg2U0AEVg4tsp1OQAisHFpkc1BASOF6FK6HTkA="
         },
         "z": {
          "dtype": "f8",
          "bdata": "PmU50o7urUCt/wE+UJGEQAIAAGDNL4ZApf4UDadPmkA="
         },
         "type": "scatter3d"
        }
       ],
       "layout": {
        "template": {
         "data": {
          "histogram2dcontour": [
           {
            "type": "histogram2dcontour",
            "colorbar": {
             "outlinewidth": 0,
             "ticks": ""
            },
            "colorscale": [
             [
              0.0,
              "#0d0887"
             ],
             [
              0.1111111111111111,
              "#46039f"
             ],
             [
              0.2222222222222222,
              "#7201a8"
             ],
             [
              0.3333333333333333,
              "#9c179e"
             ],
             [
              0.4444444444444444,
              "#bd3786"
             ],
             [
              0.5555555555555556,
              "#d8576b"
             ],
             [
              0.6666666666666666,
              "#ed7953"
             ],
             [
              0.7777777777777778,
              "#fb9f3a"
             ],
             [
              0.8888888888888888,
              "#fdca26"
             ],
             [
              1.0,
              "#f0f921"
             ]
            ]
           }
          ],
          "choropleth": [
           {
            "type": "choropleth",
            "colorbar": {
             "outlinewidth": 0,
             "ticks": ""
            }
           }
          ],
          "histogram2d": [
           {
            "type": "histogram2d",
            "colorbar": {
             "outlinewidth": 0,
             "ticks": ""
            },
            "colorscale": [
             [
              0.0,
              "#0d0887"
             ],
             [
              0.1111111111111111,
              "#46039f"
             ],
             [
              0.2222222222222222,
              "#7201a8"
             ],
             [
              0.3333333333333333,
              "#9c179e"
             ],
             [
              0.4444444444444444,
              "#bd3786"
             ],
             [
              0.5555555555555556,
              "#d8576b"
             ],
             [
              0.6666666666666666,
              "#ed7953"
             ],
             [
              0.7777777777777778,
              "#fb9f3a"
             ],
             [
              0.8888888888888888,
              "#fdca26"
             ],
             [
              1.0,
              "#f0f921"
             ]
            ]
           }
          ],
          "heatmap": [
           {
            "type": "heatmap",
            "colorbar": {
             "outlinewidth": 0,
             "ticks": ""
            },
            "colorscale": [
             [
              0.0,
              "#0d0887"
             ],
             [
              0.1111111111111111,
              "#46039f"
             ],
             [
              0.2222222222222222,
              "#7201a8"
             ],
             [
              0.3333333333333333,
              "#9c179e"
             ],
             [
              0.4444444444444444,
              "#bd3786"
             ],
             [
              0.5555555555555556,
              "#d8576b"
             ],
             [
              0.6666666666666666,
              "#ed7953"
             ],
             [
              0.7777777777777778,
              "#fb9f3a"
             ],
             [
              0.8888888888888888,
              "#fdca26"
             ],
             [
              1.0,
              "#f0f921"
             ]
            ]
           }
          ],
          "contourcarpet": [
           {
            "type": "contourcarpet",
            "colorbar": {
             "outlinewidth": 0,
             "ticks": ""
            }
           }
          ],
          "contour": [
           {
            "type": "contour",
            "colorbar": {
             "outlinewidth": 0,
             "ticks": ""
            },
            "colorscale": [
             [
              0.0,
              "#0d0887"
             ],
             [
              0.1111111111111111,
              "#46039f"
             ],
             [
              0.2222222222222222,
              "#7201a8"
             ],
             [
              0.3333333333333333,
              "#9c179e"
             ],
             [
              0.4444444444444444,
              "#bd3786"
             ],
             [
              0.5555555555555556,
              "#d8576b"
             ],
             [
              0.6666666666666666,
              "#ed7953"
             ],
             [
              0.7777777777777778,
              "#fb9f3a"
             ],
             [
              0.8888888888888888,
              "#fdca26"
             ],
             [
              1.0,
              "#f0f921"
             ]
            ]
           }
          ],
          "surface": [
           {
            "type": "surface",
            "colorbar": {
             "outlinewidth": 0,
             "ticks": ""
            },
            "colorscale": [
             [
              0.0,
              "#0d0887"
             ],
             [
              0.1111111111111111,
              "#46039f"
             ],
             [
              0.2222222222222222,
              "#7201a8"
             ],
             [
              0.3333333333333333,
              "#9c179e"
             ],
             [
              0.4444444444444444,
              "#bd3786"
             ],
             [
              0.5555555555555556,
              "#d8576b"
             ],
             [
              0.6666666666666666,
              "#ed7953"
             ],
             [
              0.7777777777777778,
              "#fb9f3a"
             ],
             [
              0.8888888888888888,
              "#fdca26"
             ],
             [
              1.0,
              "#f0f921"
             ]
            ]
           }
          ],
          "mesh3d": [
           {
            "type": "mesh3d",
            "colorbar": {
             "outlinewidth": 0,
             "ticks": ""
            }
           }
          ],
          "scatter": [
           {
            "fillpattern": {
             "fillmode": "overlay",
             "size": 10,
             "solidity": 0.2
            },
            "type": "scatter"
           }
          ],
          "parcoords": [
           {
            "type": "parcoords",
            "line": {
             "colorbar": {
              "outlinewidth": 0,
              "ticks": ""
             }
            }
           }
          ],
          "scatterpolargl": [
           {
            "type": "scatterpolargl",
            "marker": {
             "colorbar": {
              "outlinewidth": 0,
              "ticks": ""
             }
            }
           }
          ],
          "bar": [
           {
            "error_x": {
             "color": "#2a3f5f"
            },
            "error_y": {
             "color": "#2a3f5f"
            },
            "marker": {
             "line": {
              "color": "#E5ECF6",
              "width": 0.5
             },
             "pattern": {
              "fillmode": "overlay",
              "size": 10,
              "solidity": 0.2
             }
            },
            "type": "bar"
           }
          ],
          "scattergeo": [
           {
            "type": "scattergeo",
            "marker": {
             "colorbar": {
              "outlinewidth": 0,
              "ticks": ""
             }
            }
           }
          ],
          "scatterpolar": [
           {
            "type": "scatterpolar",
            "marker": {
             "colorbar": {
              "outlinewidth": 0,
              "ticks": ""
             }
            }
           }
          ],
          "histogram": [
           {
            "marker": {
             "pattern": {
              "fillmode": "overlay",
              "size": 10,
              "solidity": 0.2
             }
            },
            "type": "histogram"
           }
          ],
          "scattergl": [
           {
            "type": "scattergl",
            "marker": {
             "colorbar": {
              "outlinewidth": 0,
              "ticks": ""
             }
            }
           }
          ],
          "scatter3d": [
           {
            "type": "scatter3d",
            "line": {
             "colorbar": {
              "outlinewidth": 0,
              "ticks": ""
             }
            },
            "marker": {
             "colorbar": {
              "outlinewidth": 0,
              "ticks": ""
             }
            }
           }
          ],
          "scattermap": [
           {
            "type": "scattermap",
            "marker": {
             "colorbar": {
              "outlinewidth": 0,
              "ticks": ""
             }
            }
           }
          ],
          "scattermapbox": [
           {
            "type": "scattermapbox",
            "marker": {
             "colorbar": {
              "outlinewidth": 0,
              "ticks": ""
             }
            }
           }
          ],
          "scatterternary": [
           {
            "type": "scatterternary",
            "marker": {
             "colorbar": {
              "outlinewidth": 0,
              "ticks": ""
             }
            }
           }
          ],
          "scattercarpet": [
           {
            "type": "scattercarpet",
            "marker": {
             "colorbar": {
              "outlinewidth": 0,
              "ticks": ""
             }
            }
           }
          ],
          "carpet": [
           {
            "aaxis": {
             "endlinecolor": "#2a3f5f",
             "gridcolor": "white",
             "linecolor": "white",
             "minorgridcolor": "white",
             "startlinecolor": "#2a3f5f"
            },
            "baxis": {
             "endlinecolor": "#2a3f5f",
             "gridcolor": "white",
             "linecolor": "white",
             "minorgridcolor": "white",
             "startlinecolor": "#2a3f5f"
            },
            "type": "carpet"
           }
          ],
          "table": [
           {
            "cells": {
             "fill": {
              "color": "#EBF0F8"
             },
             "line": {
              "color": "white"
             }
            },
            "header": {
             "fill": {
              "color": "#C8D4E3"
             },
             "line": {
              "color": "white"
             }
            },
            "type": "table"
           }
          ],
          "barpolar": [
           {
            "marker": {
             "line": {
              "color": "#E5ECF6",
              "width": 0.5
             },
             "pattern": {
              "fillmode": "overlay",
              "size": 10,
              "solidity": 0.2
             }
            },
            "type": "barpolar"
           }
          ],
          "pie": [
           {
            "automargin": true,
            "type": "pie"
           }
          ]
         },
         "layout": {
          "autotypenumbers": "strict",
          "colorway": [
           "#636efa",
           "#EF553B",
           "#00cc96",
           "#ab63fa",
           "#FFA15A",
           "#19d3f3",
           "#FF6692",
           "#B6E880",
           "#FF97FF",
           "#FECB52"
          ],
          "font": {
           "color": "#2a3f5f"
          },
          "hovermode": "closest",
          "hoverlabel": {
           "align": "left"
          },
          "paper_bgcolor": "white",
          "plot_bgcolor": "#E5ECF6",
          "polar": {
           "bgcolor": "#E5ECF6",
           "angularaxis": {
            "gridcolor": "white",
            "linecolor": "white",
            "ticks": ""
           },
           "radialaxis": {
            "gridcolor": "white",
            "linecolor": "white",
            "ticks": ""
           }
          },
          "ternary": {
           "bgcolor": "#E5ECF6",
           "aaxis": {
            "gridcolor": "white",
            "linecolor": "white",
            "ticks": ""
           },
           "baxis": {
            "gridcolor": "white",
            "linecolor": "white",
            "ticks": ""
           },
           "caxis": {
            "gridcolor": "white",
            "linecolor": "white",
            "ticks": ""
           }
          },
          "coloraxis": {
           "colorbar": {
            "outlinewidth": 0,
            "ticks": ""
           }
          },
          "colorscale": {
           "sequential": [
            [
             0.0,
             "#0d0887"
            ],
            [
             0.1111111111111111,
             "#46039f"
            ],
            [
             0.2222222222222222,
             "#7201a8"
            ],
            [
             0.3333333333333333,
             "#9c179e"
            ],
            [
             0.4444444444444444,
             "#bd3786"
            ],
            [
             0.5555555555555556,
             "#d8576b"
            ],
            [
             0.6666666666666666,
             "#ed7953"
            ],
            [
             0.7777777777777778,
             "#fb9f3a"
            ],
            [
             0.8888888888888888,
             "#fdca26"
            ],
            [
             1.0,
             "#f0f921"
            ]
           ],
           "sequentialminus": [
            [
             0.0,
             "#0d0887"
            ],
            [
             0.1111111111111111,
             "#46039f"
            ],
            [
             0.2222222222222222,
             "#7201a8"
            ],
            [
             0.3333333333333333,
             "#9c179e"
            ],
            [
             0.4444444444444444,
             "#bd3786"
            ],
            [
             0.5555555555555556,
             "#d8576b"
            ],
            [
             0.6666666666666666,
             "#ed7953"
            ],
            [
             0.7777777777777778,
             "#fb9f3a"
            ],
            [
             0.8888888888888888,
             "#fdca26"
            ],
            [
             1.0,
             "#f0f921"
            ]
           ],
           "diverging": [
            [
             0,
             "#8e0152"
            ],
            [
             0.1,
             "#c51b7d"
            ],
            [
             0.2,
             "#de77ae"
            ],
            [
             0.3,
             "#f1b6da"
            ],
            [
             0.4,
             "#fde0ef"
            ],
            [
             0.5,
             "#f7f7f7"
            ],
            [
             0.6,
             "#e6f5d0"
            ],
            [
             0.7,
             "#b8e186"
            ],
            [
             0.8,
             "#7fbc41"
            ],
            [
             0.9,
             "#4d9221"
            ],
            [
             1,
             "#276419"
            ]
           ]
          },
          "xaxis": {
           "gridcolor": "white",
           "linecolor": "white",
           "ticks": "",
           "title": {
            "standoff": 15
           },
           "zerolinecolor": "white",
           "automargin": true,
           "zerolinewidth": 2
          },
          "yaxis": {
           "gridcolor": "white",
           "linecolor": "white",
           "ticks": "",
           "title": {
            "standoff": 15
           },
           "zerolinecolor": "white",
           "automargin": true,
           "zerolinewidth": 2
          },
          "scene": {
           "xaxis": {
            "backgroundcolor": "#E5ECF6",
            "gridcolor": "white",
            "linecolor": "white",
            "showbackground": true,
            "ticks": "",
            "zerolinecolor": "white",
            "gridwidth": 2
           },
           "yaxis": {
            "backgroundcolor": "#E5ECF6",
            "gridcolor": "white",
            "linecolor": "white",
            "showbackground": true,
            "ticks": "",
            "zerolinecolor": "white",
            "gridwidth": 2
           },
           "zaxis": {
            "backgroundcolor": "#E5ECF6",
            "gridcolor": "white",
            "linecolor": "white",
            "showbackground": true,
            "ticks": "",
            "zerolinecolor": "white",
            "gridwidth": 2
           }
          },
          "shapedefaults": {
           "line": {
            "color": "#2a3f5f"
           }
          },
          "annotationdefaults": {
           "arrowcolor": "#2a3f5f",
           "arrowhead": 0,
           "arrowwidth": 1
          },
          "geo": {
           "bgcolor": "white",
           "landcolor": "#E5ECF6",
           "subunitcolor": "white",
           "showland": true,
           "showlakes": true,
           "lakecolor": "white"
          },
          "title": {
           "x": 0.05
          },
          "mapbox": {
           "style": "light"
          }
         }
        },
        "scene": {
         "domain": {
          "x": [
           0.0,
           1.0
          ],
          "y": [
           0.0,
           1.0
          ]
         },
         "xaxis": {
          "title": {
           "text": "Inflation (%)"
          }
         },
         "yaxis": {
          "title": {
           "text": "Life Expectancy (years)"
          }
         },
         "zaxis": {
          "title": {
           "text": "GDP per capita (US$)"
          }
         }
        },
        "coloraxis": {
         "colorbar": {
          "title": {
           "text": "Cluster"
          }
         },
         "colorscale": [
          [
           0.0,
           "#0d0887"
          ],
          [
           0.1111111111111111,
           "#46039f"
          ],
          [
           0.2222222222222222,
           "#7201a8"
          ],
          [
           0.3333333333333333,
           "#9c179e"
          ],
          [
           0.4444444444444444,
           "#bd3786"
          ],
          [
           0.5555555555555556,
           "#d8576b"
          ],
          [
           0.6666666666666666,
           "#ed7953"
          ],
          [
           0.7777777777777778,
           "#fb9f3a"
          ],
          [
           0.8888888888888888,
           "#fdca26"
          ],
          [
           1.0,
           "#f0f921"
          ]
         ]
        },
        "legend": {
         "title": {
          "text": "Cluster"
         },
         "tracegroupgap": 0
        },
        "margin": {
         "t": 60
        },
        "title": {
         "text": "Inflation vs Life Expectancy vs GDP Per Capita"
        }
       },
       "config": {
        "plotlyServerURL": "https://plot.ly"
       }
      }
     },
     "metadata": {},
     "output_type": "display_data"
    }
   ],
   "execution_count": 17
  },
  {
   "cell_type": "code",
   "id": "f934b290",
   "metadata": {
    "ExecuteTime": {
     "end_time": "2025-09-11T10:30:08.402989Z",
     "start_time": "2025-09-11T10:30:08.310210Z"
    }
   },
   "source": [
    "import plotly.express as px\n",
    "\n",
    "fig = plt.figure(figsize=(10,8))\n",
    "ax = fig.add_subplot(111, projection='3d')\n",
    "\n",
    "for cluster in knn_df['Cluster'].unique():\n",
    "    cluster_data = knn_df[knn_df[\"Cluster\"] == cluster]\n",
    "    ax.scatter(cluster_data[\"Inflation\"], cluster_data['GDP_per_capita'], cluster_data[\"Life_expectancy\"], label=f\"Cluster {cluster}\", alpha=0.7)\n",
    "\n",
    "countries = ['United Kingdom', 'Ireland', 'United States', 'China', 'Nigeria', 'Ghana', 'Australia', 'Cambodia', 'Vietnam', 'Mexico']\n",
    "\n",
    "#for _, row in knn_df[knn_df['country'].isin(countries)].iterrows():\n",
    "#    plt.text(row['Inflation']+0.5, row['Life_expectancy']+0.5, row['country'], fontsize=9, color='black')\n",
    "\n",
    "#plt.xscale('log')\n",
    "#plt.yscale('log')\n",
    "\n",
    "ax.set_xlabel('Inflation')\n",
    "ax.set_ylabel('GDP Per Capita')\n",
    "ax.set_zlabel('Life Expectancy')\n",
    "ax.set_title('Inflation vs Life Expectancy vs GDP Per Capita')\n",
    "ax.legend()\n",
    "plt.show()"
   ],
   "outputs": [
    {
     "data": {
      "text/plain": [
       "<Figure size 1000x800 with 1 Axes>"
      ],
      "image/png": "[encoded data removed]"
     },
     "metadata": {},
     "output_type": "display_data"
    }
   ],
   "execution_count": 16
  }
 ],
 "metadata": {
  "kernelspec": {
   "display_name": ".venv",
   "language": "python",
   "name": "python3"
  },
  "language_info": {
   "codemirror_mode": {
    "name": "ipython",
    "version": 3
   },
   "file_extension": ".py",
   "mimetype": "text/x-python",
   "name": "python",
   "nbconvert_exporter": "python",
   "pygments_lexer": "ipython3",
   "version": "3.13.3"
  }
 },
 "nbformat": 4,
 "nbformat_minor": 5
}
