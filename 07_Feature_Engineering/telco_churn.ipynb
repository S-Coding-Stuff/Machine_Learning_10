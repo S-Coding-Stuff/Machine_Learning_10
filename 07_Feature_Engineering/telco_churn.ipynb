{
 "cells": [
  {
   "cell_type": "markdown",
   "id": "57555ded",
   "metadata": {},
   "source": [
    "# Churn Predictor"
   ]
  },
  {
   "cell_type": "code",
   "id": "initial_id",
   "metadata": {
    "collapsed": true,
    "ExecuteTime": {
     "end_time": "2025-09-12T22:02:23.979985Z",
     "start_time": "2025-09-12T22:02:23.654859Z"
    }
   },
   "source": [
    "import kagglehub\n",
    "\n",
    "# Download latest version\n",
    "path = kagglehub.dataset_download(\"blastchar/telco-customer-churn\")\n",
    "\n",
    "print(\"Path to dataset files:\", path)"
   ],
   "outputs": [
    {
     "name": "stdout",
     "output_type": "stream",
     "text": [
      "Warning: Looks like you're using an outdated `kagglehub` version (installed: 0.3.12), please consider upgrading to the latest version (0.3.13).\n",
      "Path to dataset files: /Users/samgrant/.cache/kagglehub/datasets/blastchar/telco-customer-churn/versions/1\n"
     ]
    }
   ],
   "execution_count": 14
  },
  {
   "cell_type": "code",
   "id": "f79e803a0a6f698f",
   "metadata": {
    "ExecuteTime": {
     "end_time": "2025-09-12T22:02:24.018645Z",
     "start_time": "2025-09-12T22:02:23.987008Z"
    }
   },
   "source": [
    "import pandas as pd\n",
    "\n",
    "full_path = path + '/WA_Fn-UseC_-Telco-Customer-Churn.csv'\n",
    "\n",
    "df = pd.read_csv(full_path)"
   ],
   "outputs": [],
   "execution_count": 15
  },
  {
   "cell_type": "code",
   "id": "bd0fc8d1567e0db0",
   "metadata": {
    "ExecuteTime": {
     "end_time": "2025-09-12T22:02:24.049037Z",
     "start_time": "2025-09-12T22:02:24.027683Z"
    }
   },
   "source": [
    "df.head()"
   ],
   "outputs": [
    {
     "data": {
      "text/plain": [
       "   customerID  gender  SeniorCitizen Partner Dependents  tenure PhoneService  \\\n",
       "0  7590-VHVEG  Female              0     Yes         No       1           No   \n",
       "1  5575-GNVDE    Male              0      No         No      34          Yes   \n",
       "2  3668-QPYBK    Male              0      No         No       2          Yes   \n",
       "3  7795-CFOCW    Male              0      No         No      45           No   \n",
       "4  9237-HQITU  Female              0      No         No       2          Yes   \n",
       "\n",
       "      MultipleLines InternetService OnlineSecurity  ... DeviceProtection  \\\n",
       "0  No phone service             DSL             No  ...               No   \n",
       "1                No             DSL            Yes  ...              Yes   \n",
       "2                No             DSL            Yes  ...               No   \n",
       "3  No phone service             DSL            Yes  ...              Yes   \n",
       "4                No     Fiber optic             No  ...               No   \n",
       "\n",
       "  TechSupport StreamingTV StreamingMovies        Contract PaperlessBilling  \\\n",
       "0          No          No              No  Month-to-month              Yes   \n",
       "1          No          No              No        One year               No   \n",
       "2          No          No              No  Month-to-month              Yes   \n",
       "3         Yes          No              No        One year               No   \n",
       "4          No          No              No  Month-to-month              Yes   \n",
       "\n",
       "               PaymentMethod MonthlyCharges  TotalCharges Churn  \n",
       "0           Electronic check          29.85         29.85    No  \n",
       "1               Mailed check          56.95        1889.5    No  \n",
       "2               Mailed check          53.85        108.15   Yes  \n",
       "3  Bank transfer (automatic)          42.30       1840.75    No  \n",
       "4           Electronic check          70.70        151.65   Yes  \n",
       "\n",
       "[5 rows x 21 columns]"
      ],
      "text/html": [
       "<div>\n",
       "<style scoped>\n",
       "    .dataframe tbody tr th:only-of-type {\n",
       "        vertical-align: middle;\n",
       "    }\n",
       "\n",
       "    .dataframe tbody tr th {\n",
       "        vertical-align: top;\n",
       "    }\n",
       "\n",
       "    .dataframe thead th {\n",
       "        text-align: right;\n",
       "    }\n",
       "</style>\n",
       "<table border=\"1\" class=\"dataframe\">\n",
       "  <thead>\n",
       "    <tr style=\"text-align: right;\">\n",
       "      <th></th>\n",
       "      <th>customerID</th>\n",
       "      <th>gender</th>\n",
       "      <th>SeniorCitizen</th>\n",
       "      <th>Partner</th>\n",
       "      <th>Dependents</th>\n",
       "      <th>tenure</th>\n",
       "      <th>PhoneService</th>\n",
       "      <th>MultipleLines</th>\n",
       "      <th>InternetService</th>\n",
       "      <th>OnlineSecurity</th>\n",
       "      <th>...</th>\n",
       "      <th>DeviceProtection</th>\n",
       "      <th>TechSupport</th>\n",
       "      <th>StreamingTV</th>\n",
       "      <th>StreamingMovies</th>\n",
       "      <th>Contract</th>\n",
       "      <th>PaperlessBilling</th>\n",
       "      <th>PaymentMethod</th>\n",
       "      <th>MonthlyCharges</th>\n",
       "      <th>TotalCharges</th>\n",
       "      <th>Churn</th>\n",
       "    </tr>\n",
       "  </thead>\n",
       "  <tbody>\n",
       "    <tr>\n",
       "      <th>0</th>\n",
       "      <td>7590-VHVEG</td>\n",
       "      <td>Female</td>\n",
       "      <td>0</td>\n",
       "      <td>Yes</td>\n",
       "      <td>No</td>\n",
       "      <td>1</td>\n",
       "      <td>No</td>\n",
       "      <td>No phone service</td>\n",
       "      <td>DSL</td>\n",
       "      <td>No</td>\n",
       "      <td>...</td>\n",
       "      <td>No</td>\n",
       "      <td>No</td>\n",
       "      <td>No</td>\n",
       "      <td>No</td>\n",
       "      <td>Month-to-month</td>\n",
       "      <td>Yes</td>\n",
       "      <td>Electronic check</td>\n",
       "      <td>29.85</td>\n",
       "      <td>29.85</td>\n",
       "      <td>No</td>\n",
       "    </tr>\n",
       "    <tr>\n",
       "      <th>1</th>\n",
       "      <td>5575-GNVDE</td>\n",
       "      <td>Male</td>\n",
       "      <td>0</td>\n",
       "      <td>No</td>\n",
       "      <td>No</td>\n",
       "      <td>34</td>\n",
       "      <td>Yes</td>\n",
       "      <td>No</td>\n",
       "      <td>DSL</td>\n",
       "      <td>Yes</td>\n",
       "      <td>...</td>\n",
       "      <td>Yes</td>\n",
       "      <td>No</td>\n",
       "      <td>No</td>\n",
       "      <td>No</td>\n",
       "      <td>One year</td>\n",
       "      <td>No</td>\n",
       "      <td>Mailed check</td>\n",
       "      <td>56.95</td>\n",
       "      <td>1889.5</td>\n",
       "      <td>No</td>\n",
       "    </tr>\n",
       "    <tr>\n",
       "      <th>2</th>\n",
       "      <td>3668-QPYBK</td>\n",
       "      <td>Male</td>\n",
       "      <td>0</td>\n",
       "      <td>No</td>\n",
       "      <td>No</td>\n",
       "      <td>2</td>\n",
       "      <td>Yes</td>\n",
       "      <td>No</td>\n",
       "      <td>DSL</td>\n",
       "      <td>Yes</td>\n",
       "      <td>...</td>\n",
       "      <td>No</td>\n",
       "      <td>No</td>\n",
       "      <td>No</td>\n",
       "      <td>No</td>\n",
       "      <td>Month-to-month</td>\n",
       "      <td>Yes</td>\n",
       "      <td>Mailed check</td>\n",
       "      <td>53.85</td>\n",
       "      <td>108.15</td>\n",
       "      <td>Yes</td>\n",
       "    </tr>\n",
       "    <tr>\n",
       "      <th>3</th>\n",
       "      <td>7795-CFOCW</td>\n",
       "      <td>Male</td>\n",
       "      <td>0</td>\n",
       "      <td>No</td>\n",
       "      <td>No</td>\n",
       "      <td>45</td>\n",
       "      <td>No</td>\n",
       "      <td>No phone service</td>\n",
       "      <td>DSL</td>\n",
       "      <td>Yes</td>\n",
       "      <td>...</td>\n",
       "      <td>Yes</td>\n",
       "      <td>Yes</td>\n",
       "      <td>No</td>\n",
       "      <td>No</td>\n",
       "      <td>One year</td>\n",
       "      <td>No</td>\n",
       "      <td>Bank transfer (automatic)</td>\n",
       "      <td>42.30</td>\n",
       "      <td>1840.75</td>\n",
       "      <td>No</td>\n",
       "    </tr>\n",
       "    <tr>\n",
       "      <th>4</th>\n",
       "      <td>9237-HQITU</td>\n",
       "      <td>Female</td>\n",
       "      <td>0</td>\n",
       "      <td>No</td>\n",
       "      <td>No</td>\n",
       "      <td>2</td>\n",
       "      <td>Yes</td>\n",
       "      <td>No</td>\n",
       "      <td>Fiber optic</td>\n",
       "      <td>No</td>\n",
       "      <td>...</td>\n",
       "      <td>No</td>\n",
       "      <td>No</td>\n",
       "      <td>No</td>\n",
       "      <td>No</td>\n",
       "      <td>Month-to-month</td>\n",
       "      <td>Yes</td>\n",
       "      <td>Electronic check</td>\n",
       "      <td>70.70</td>\n",
       "      <td>151.65</td>\n",
       "      <td>Yes</td>\n",
       "    </tr>\n",
       "  </tbody>\n",
       "</table>\n",
       "<p>5 rows × 21 columns</p>\n",
       "</div>"
      ]
     },
     "execution_count": 16,
     "metadata": {},
     "output_type": "execute_result"
    }
   ],
   "execution_count": 16
  },
  {
   "cell_type": "code",
   "id": "5e2ee360683098",
   "metadata": {
    "ExecuteTime": {
     "end_time": "2025-09-12T22:02:24.107349Z",
     "start_time": "2025-09-12T22:02:24.073479Z"
    }
   },
   "source": [
    "df.info()"
   ],
   "outputs": [
    {
     "name": "stdout",
     "output_type": "stream",
     "text": [
      "<class 'pandas.core.frame.DataFrame'>\n",
      "RangeIndex: 7043 entries, 0 to 7042\n",
      "Data columns (total 21 columns):\n",
      " #   Column            Non-Null Count  Dtype  \n",
      "---  ------            --------------  -----  \n",
      " 0   customerID        7043 non-null   object \n",
      " 1   gender            7043 non-null   object \n",
      " 2   SeniorCitizen     7043 non-null   int64  \n",
      " 3   Partner           7043 non-null   object \n",
      " 4   Dependents        7043 non-null   object \n",
      " 5   tenure            7043 non-null   int64  \n",
      " 6   PhoneService      7043 non-null   object \n",
      " 7   MultipleLines     7043 non-null   object \n",
      " 8   InternetService   7043 non-null   object \n",
      " 9   OnlineSecurity    7043 non-null   object \n",
      " 10  OnlineBackup      7043 non-null   object \n",
      " 11  DeviceProtection  7043 non-null   object \n",
      " 12  TechSupport       7043 non-null   object \n",
      " 13  StreamingTV       7043 non-null   object \n",
      " 14  StreamingMovies   7043 non-null   object \n",
      " 15  Contract          7043 non-null   object \n",
      " 16  PaperlessBilling  7043 non-null   object \n",
      " 17  PaymentMethod     7043 non-null   object \n",
      " 18  MonthlyCharges    7043 non-null   float64\n",
      " 19  TotalCharges      7043 non-null   object \n",
      " 20  Churn             7043 non-null   object \n",
      "dtypes: float64(1), int64(2), object(18)\n",
      "memory usage: 1.1+ MB\n"
     ]
    }
   ],
   "execution_count": 17
  },
  {
   "cell_type": "markdown",
   "id": "15c93ed8",
   "metadata": {},
   "source": [
    "## Initial Analysis\n",
    "\n",
    "- 'customerID' not required for predicting churn.\n",
    "- Could turn churn into binary."
   ]
  },
  {
   "cell_type": "code",
   "id": "e49d88c6",
   "metadata": {
    "ExecuteTime": {
     "end_time": "2025-09-12T22:02:24.209919Z",
     "start_time": "2025-09-12T22:02:24.196385Z"
    }
   },
   "source": [
    "df.drop(columns=['customerID'])"
   ],
   "outputs": [
    {
     "data": {
      "text/plain": [
       "      gender  SeniorCitizen Partner Dependents  tenure PhoneService  \\\n",
       "0     Female              0     Yes         No       1           No   \n",
       "1       Male              0      No         No      34          Yes   \n",
       "2       Male              0      No         No       2          Yes   \n",
       "3       Male              0      No         No      45           No   \n",
       "4     Female              0      No         No       2          Yes   \n",
       "...      ...            ...     ...        ...     ...          ...   \n",
       "7038    Male              0     Yes        Yes      24          Yes   \n",
       "7039  Female              0     Yes        Yes      72          Yes   \n",
       "7040  Female              0     Yes        Yes      11           No   \n",
       "7041    Male              1     Yes         No       4          Yes   \n",
       "7042    Male              0      No         No      66          Yes   \n",
       "\n",
       "         MultipleLines InternetService OnlineSecurity OnlineBackup  \\\n",
       "0     No phone service             DSL             No          Yes   \n",
       "1                   No             DSL            Yes           No   \n",
       "2                   No             DSL            Yes          Yes   \n",
       "3     No phone service             DSL            Yes           No   \n",
       "4                   No     Fiber optic             No           No   \n",
       "...                ...             ...            ...          ...   \n",
       "7038               Yes             DSL            Yes           No   \n",
       "7039               Yes     Fiber optic             No          Yes   \n",
       "7040  No phone service             DSL            Yes           No   \n",
       "7041               Yes     Fiber optic             No           No   \n",
       "7042                No     Fiber optic            Yes           No   \n",
       "\n",
       "     DeviceProtection TechSupport StreamingTV StreamingMovies        Contract  \\\n",
       "0                  No          No          No              No  Month-to-month   \n",
       "1                 Yes          No          No              No        One year   \n",
       "2                  No          No          No              No  Month-to-month   \n",
       "3                 Yes         Yes          No              No        One year   \n",
       "4                  No          No          No              No  Month-to-month   \n",
       "...               ...         ...         ...             ...             ...   \n",
       "7038              Yes         Yes         Yes             Yes        One year   \n",
       "7039              Yes          No         Yes             Yes        One year   \n",
       "7040               No          No          No              No  Month-to-month   \n",
       "7041               No          No          No              No  Month-to-month   \n",
       "7042              Yes         Yes         Yes             Yes        Two year   \n",
       "\n",
       "     PaperlessBilling              PaymentMethod  MonthlyCharges TotalCharges  \\\n",
       "0                 Yes           Electronic check           29.85        29.85   \n",
       "1                  No               Mailed check           56.95       1889.5   \n",
       "2                 Yes               Mailed check           53.85       108.15   \n",
       "3                  No  Bank transfer (automatic)           42.30      1840.75   \n",
       "4                 Yes           Electronic check           70.70       151.65   \n",
       "...               ...                        ...             ...          ...   \n",
       "7038              Yes               Mailed check           84.80       1990.5   \n",
       "7039              Yes    Credit card (automatic)          103.20       7362.9   \n",
       "7040              Yes           Electronic check           29.60       346.45   \n",
       "7041              Yes               Mailed check           74.40        306.6   \n",
       "7042              Yes  Bank transfer (automatic)          105.65       6844.5   \n",
       "\n",
       "     Churn  \n",
       "0       No  \n",
       "1       No  \n",
       "2      Yes  \n",
       "3       No  \n",
       "4      Yes  \n",
       "...    ...  \n",
       "7038    No  \n",
       "7039    No  \n",
       "7040    No  \n",
       "7041   Yes  \n",
       "7042    No  \n",
       "\n",
       "[7043 rows x 20 columns]"
      ],
      "text/html": [
       "<div>\n",
       "<style scoped>\n",
       "    .dataframe tbody tr th:only-of-type {\n",
       "        vertical-align: middle;\n",
       "    }\n",
       "\n",
       "    .dataframe tbody tr th {\n",
       "        vertical-align: top;\n",
       "    }\n",
       "\n",
       "    .dataframe thead th {\n",
       "        text-align: right;\n",
       "    }\n",
       "</style>\n",
       "<table border=\"1\" class=\"dataframe\">\n",
       "  <thead>\n",
       "    <tr style=\"text-align: right;\">\n",
       "      <th></th>\n",
       "      <th>gender</th>\n",
       "      <th>SeniorCitizen</th>\n",
       "      <th>Partner</th>\n",
       "      <th>Dependents</th>\n",
       "      <th>tenure</th>\n",
       "      <th>PhoneService</th>\n",
       "      <th>MultipleLines</th>\n",
       "      <th>InternetService</th>\n",
       "      <th>OnlineSecurity</th>\n",
       "      <th>OnlineBackup</th>\n",
       "      <th>DeviceProtection</th>\n",
       "      <th>TechSupport</th>\n",
       "      <th>StreamingTV</th>\n",
       "      <th>StreamingMovies</th>\n",
       "      <th>Contract</th>\n",
       "      <th>PaperlessBilling</th>\n",
       "      <th>PaymentMethod</th>\n",
       "      <th>MonthlyCharges</th>\n",
       "      <th>TotalCharges</th>\n",
       "      <th>Churn</th>\n",
       "    </tr>\n",
       "  </thead>\n",
       "  <tbody>\n",
       "    <tr>\n",
       "      <th>0</th>\n",
       "      <td>Female</td>\n",
       "      <td>0</td>\n",
       "      <td>Yes</td>\n",
       "      <td>No</td>\n",
       "      <td>1</td>\n",
       "      <td>No</td>\n",
       "      <td>No phone service</td>\n",
       "      <td>DSL</td>\n",
       "      <td>No</td>\n",
       "      <td>Yes</td>\n",
       "      <td>No</td>\n",
       "      <td>No</td>\n",
       "      <td>No</td>\n",
       "      <td>No</td>\n",
       "      <td>Month-to-month</td>\n",
       "      <td>Yes</td>\n",
       "      <td>Electronic check</td>\n",
       "      <td>29.85</td>\n",
       "      <td>29.85</td>\n",
       "      <td>No</td>\n",
       "    </tr>\n",
       "    <tr>\n",
       "      <th>1</th>\n",
       "      <td>Male</td>\n",
       "      <td>0</td>\n",
       "      <td>No</td>\n",
       "      <td>No</td>\n",
       "      <td>34</td>\n",
       "      <td>Yes</td>\n",
       "      <td>No</td>\n",
       "      <td>DSL</td>\n",
       "      <td>Yes</td>\n",
       "      <td>No</td>\n",
       "      <td>Yes</td>\n",
       "      <td>No</td>\n",
       "      <td>No</td>\n",
       "      <td>No</td>\n",
       "      <td>One year</td>\n",
       "      <td>No</td>\n",
       "      <td>Mailed check</td>\n",
       "      <td>56.95</td>\n",
       "      <td>1889.5</td>\n",
       "      <td>No</td>\n",
       "    </tr>\n",
       "    <tr>\n",
       "      <th>2</th>\n",
       "      <td>Male</td>\n",
       "      <td>0</td>\n",
       "      <td>No</td>\n",
       "      <td>No</td>\n",
       "      <td>2</td>\n",
       "      <td>Yes</td>\n",
       "      <td>No</td>\n",
       "      <td>DSL</td>\n",
       "      <td>Yes</td>\n",
       "      <td>Yes</td>\n",
       "      <td>No</td>\n",
       "      <td>No</td>\n",
       "      <td>No</td>\n",
       "      <td>No</td>\n",
       "      <td>Month-to-month</td>\n",
       "      <td>Yes</td>\n",
       "      <td>Mailed check</td>\n",
       "      <td>53.85</td>\n",
       "      <td>108.15</td>\n",
       "      <td>Yes</td>\n",
       "    </tr>\n",
       "    <tr>\n",
       "      <th>3</th>\n",
       "      <td>Male</td>\n",
       "      <td>0</td>\n",
       "      <td>No</td>\n",
       "      <td>No</td>\n",
       "      <td>45</td>\n",
       "      <td>No</td>\n",
       "      <td>No phone service</td>\n",
       "      <td>DSL</td>\n",
       "      <td>Yes</td>\n",
       "      <td>No</td>\n",
       "      <td>Yes</td>\n",
       "      <td>Yes</td>\n",
       "      <td>No</td>\n",
       "      <td>No</td>\n",
       "      <td>One year</td>\n",
       "      <td>No</td>\n",
       "      <td>Bank transfer (automatic)</td>\n",
       "      <td>42.30</td>\n",
       "      <td>1840.75</td>\n",
       "      <td>No</td>\n",
       "    </tr>\n",
       "    <tr>\n",
       "      <th>4</th>\n",
       "      <td>Female</td>\n",
       "      <td>0</td>\n",
       "      <td>No</td>\n",
       "      <td>No</td>\n",
       "      <td>2</td>\n",
       "      <td>Yes</td>\n",
       "      <td>No</td>\n",
       "      <td>Fiber optic</td>\n",
       "      <td>No</td>\n",
       "      <td>No</td>\n",
       "      <td>No</td>\n",
       "      <td>No</td>\n",
       "      <td>No</td>\n",
       "      <td>No</td>\n",
       "      <td>Month-to-month</td>\n",
       "      <td>Yes</td>\n",
       "      <td>Electronic check</td>\n",
       "      <td>70.70</td>\n",
       "      <td>151.65</td>\n",
       "      <td>Yes</td>\n",
       "    </tr>\n",
       "    <tr>\n",
       "      <th>...</th>\n",
       "      <td>...</td>\n",
       "      <td>...</td>\n",
       "      <td>...</td>\n",
       "      <td>...</td>\n",
       "      <td>...</td>\n",
       "      <td>...</td>\n",
       "      <td>...</td>\n",
       "      <td>...</td>\n",
       "      <td>...</td>\n",
       "      <td>...</td>\n",
       "      <td>...</td>\n",
       "      <td>...</td>\n",
       "      <td>...</td>\n",
       "      <td>...</td>\n",
       "      <td>...</td>\n",
       "      <td>...</td>\n",
       "      <td>...</td>\n",
       "      <td>...</td>\n",
       "      <td>...</td>\n",
       "      <td>...</td>\n",
       "    </tr>\n",
       "    <tr>\n",
       "      <th>7038</th>\n",
       "      <td>Male</td>\n",
       "      <td>0</td>\n",
       "      <td>Yes</td>\n",
       "      <td>Yes</td>\n",
       "      <td>24</td>\n",
       "      <td>Yes</td>\n",
       "      <td>Yes</td>\n",
       "      <td>DSL</td>\n",
       "      <td>Yes</td>\n",
       "      <td>No</td>\n",
       "      <td>Yes</td>\n",
       "      <td>Yes</td>\n",
       "      <td>Yes</td>\n",
       "      <td>Yes</td>\n",
       "      <td>One year</td>\n",
       "      <td>Yes</td>\n",
       "      <td>Mailed check</td>\n",
       "      <td>84.80</td>\n",
       "      <td>1990.5</td>\n",
       "      <td>No</td>\n",
       "    </tr>\n",
       "    <tr>\n",
       "      <th>7039</th>\n",
       "      <td>Female</td>\n",
       "      <td>0</td>\n",
       "      <td>Yes</td>\n",
       "      <td>Yes</td>\n",
       "      <td>72</td>\n",
       "      <td>Yes</td>\n",
       "      <td>Yes</td>\n",
       "      <td>Fiber optic</td>\n",
       "      <td>No</td>\n",
       "      <td>Yes</td>\n",
       "      <td>Yes</td>\n",
       "      <td>No</td>\n",
       "      <td>Yes</td>\n",
       "      <td>Yes</td>\n",
       "      <td>One year</td>\n",
       "      <td>Yes</td>\n",
       "      <td>Credit card (automatic)</td>\n",
       "      <td>103.20</td>\n",
       "      <td>7362.9</td>\n",
       "      <td>No</td>\n",
       "    </tr>\n",
       "    <tr>\n",
       "      <th>7040</th>\n",
       "      <td>Female</td>\n",
       "      <td>0</td>\n",
       "      <td>Yes</td>\n",
       "      <td>Yes</td>\n",
       "      <td>11</td>\n",
       "      <td>No</td>\n",
       "      <td>No phone service</td>\n",
       "      <td>DSL</td>\n",
       "      <td>Yes</td>\n",
       "      <td>No</td>\n",
       "      <td>No</td>\n",
       "      <td>No</td>\n",
       "      <td>No</td>\n",
       "      <td>No</td>\n",
       "      <td>Month-to-month</td>\n",
       "      <td>Yes</td>\n",
       "      <td>Electronic check</td>\n",
       "      <td>29.60</td>\n",
       "      <td>346.45</td>\n",
       "      <td>No</td>\n",
       "    </tr>\n",
       "    <tr>\n",
       "      <th>7041</th>\n",
       "      <td>Male</td>\n",
       "      <td>1</td>\n",
       "      <td>Yes</td>\n",
       "      <td>No</td>\n",
       "      <td>4</td>\n",
       "      <td>Yes</td>\n",
       "      <td>Yes</td>\n",
       "      <td>Fiber optic</td>\n",
       "      <td>No</td>\n",
       "      <td>No</td>\n",
       "      <td>No</td>\n",
       "      <td>No</td>\n",
       "      <td>No</td>\n",
       "      <td>No</td>\n",
       "      <td>Month-to-month</td>\n",
       "      <td>Yes</td>\n",
       "      <td>Mailed check</td>\n",
       "      <td>74.40</td>\n",
       "      <td>306.6</td>\n",
       "      <td>Yes</td>\n",
       "    </tr>\n",
       "    <tr>\n",
       "      <th>7042</th>\n",
       "      <td>Male</td>\n",
       "      <td>0</td>\n",
       "      <td>No</td>\n",
       "      <td>No</td>\n",
       "      <td>66</td>\n",
       "      <td>Yes</td>\n",
       "      <td>No</td>\n",
       "      <td>Fiber optic</td>\n",
       "      <td>Yes</td>\n",
       "      <td>No</td>\n",
       "      <td>Yes</td>\n",
       "      <td>Yes</td>\n",
       "      <td>Yes</td>\n",
       "      <td>Yes</td>\n",
       "      <td>Two year</td>\n",
       "      <td>Yes</td>\n",
       "      <td>Bank transfer (automatic)</td>\n",
       "      <td>105.65</td>\n",
       "      <td>6844.5</td>\n",
       "      <td>No</td>\n",
       "    </tr>\n",
       "  </tbody>\n",
       "</table>\n",
       "<p>7043 rows × 20 columns</p>\n",
       "</div>"
      ]
     },
     "execution_count": 18,
     "metadata": {},
     "output_type": "execute_result"
    }
   ],
   "execution_count": 18
  },
  {
   "cell_type": "code",
   "id": "4c1d5dd4",
   "metadata": {
    "ExecuteTime": {
     "end_time": "2025-09-12T22:02:24.240769Z",
     "start_time": "2025-09-12T22:02:24.233923Z"
    }
   },
   "source": [
    "df['TotalCharges'] = pd.to_numeric(df['TotalCharges'], errors='coerce')"
   ],
   "outputs": [],
   "execution_count": 19
  },
  {
   "cell_type": "code",
   "id": "a7e55d95",
   "metadata": {
    "ExecuteTime": {
     "end_time": "2025-09-12T22:02:24.270859Z",
     "start_time": "2025-09-12T22:02:24.268029Z"
    }
   },
   "source": [
    "df['TotalCharges'].isna().sum()"
   ],
   "outputs": [
    {
     "data": {
      "text/plain": [
       "np.int64(11)"
      ]
     },
     "execution_count": 20,
     "metadata": {},
     "output_type": "execute_result"
    }
   ],
   "execution_count": 20
  },
  {
   "cell_type": "code",
   "id": "e7896084",
   "metadata": {
    "ExecuteTime": {
     "end_time": "2025-09-12T22:02:24.291055Z",
     "start_time": "2025-09-12T22:02:24.283834Z"
    }
   },
   "source": [
    "from sklearn.impute import SimpleImputer\n",
    "\n",
    "\n",
    "imputer = SimpleImputer(strategy='median')\n",
    "df['TotalCharges'] = imputer.fit_transform(df[['TotalCharges']])"
   ],
   "outputs": [],
   "execution_count": 21
  },
  {
   "cell_type": "markdown",
   "id": "a833f13a",
   "metadata": {},
   "source": [
    "## New Features\n",
    "\n",
    "- Can place 'tenure' into bins\n",
    "- Move services into one textual category with each service as an element"
   ]
  },
  {
   "cell_type": "code",
   "id": "8ff36243",
   "metadata": {
    "ExecuteTime": {
     "end_time": "2025-09-12T22:02:24.421500Z",
     "start_time": "2025-09-12T22:02:24.300058Z"
    }
   },
   "source": [
    "df['TenureBin'] = pd.cut(df['tenure'], bins=[0,12,24,48,72], labels=['0-12', '13-24', '25-48', '48-72'])\n",
    "services = ['PhoneService', 'InternetService', 'OnlineSecurity', 'OnlineBackup', 'DeviceProtection', 'TechSupport', 'StreamingTV', 'StreamingMovies']\n",
    "df['HasMultipleServices'] = df[services].apply(lambda row: sum(row=='Yes'), axis=1)\n",
    "df['MonthlyChargesPerService'] = df['MonthlyCharges'] / (df['HasMultipleServices'] + 1)\n",
    "df[\"SeniorFlag\"] = df[\"SeniorCitizen\"].astype(bool)"
   ],
   "outputs": [],
   "execution_count": 22
  },
  {
   "cell_type": "code",
   "id": "592429ea",
   "metadata": {
    "ExecuteTime": {
     "end_time": "2025-09-12T22:02:24.432778Z",
     "start_time": "2025-09-12T22:02:24.429041Z"
    }
   },
   "source": [
    "from sklearn.preprocessing import StandardScaler, OneHotEncoder\n",
    "from sklearn.pipeline import Pipeline\n",
    "from sklearn.compose import ColumnTransformer\n",
    "\n",
    "X = df.drop(columns=['Churn'], axis=1)\n",
    "y = df['Churn'].map({'Yes':1, 'No':0})"
   ],
   "outputs": [],
   "execution_count": 23
  },
  {
   "cell_type": "code",
   "id": "d9a85e08",
   "metadata": {
    "ExecuteTime": {
     "end_time": "2025-09-12T22:02:24.438995Z",
     "start_time": "2025-09-12T22:02:24.436724Z"
    }
   },
   "source": [
    "numeric_features = [\"tenure\",\"MonthlyCharges\",\"TotalCharges\",\"HasMultipleServices\",\"MonthlyChargesPerService\"]\n",
    "categorical_features = [\"gender\",\"Partner\",\"Dependents\",\"PhoneService\",\"MultipleLines\",\n",
    "                        \"InternetService\",\"OnlineSecurity\",\"OnlineBackup\",\"DeviceProtection\",\n",
    "                        \"TechSupport\",\"StreamingTV\",\"StreamingMovies\",\"Contract\",\"PaperlessBilling\",\n",
    "                        \"PaymentMethod\",\"TenureBin\"]\n",
    "\n",
    "numeric_transformer = Pipeline([\n",
    "    (\"imputer\", SimpleImputer(strategy=\"median\")),\n",
    "    (\"scaler\", StandardScaler())\n",
    "])\n",
    "\n",
    "categorical_transformer = Pipeline([\n",
    "    (\"imputer\", SimpleImputer(strategy=\"most_frequent\")),\n",
    "    (\"encoder\", OneHotEncoder(handle_unknown=\"ignore\"))\n",
    "])\n",
    "\n",
    "preprocessor = ColumnTransformer([\n",
    "    (\"num\", numeric_transformer, numeric_features),\n",
    "    (\"cat\", categorical_transformer, categorical_features)\n",
    "])"
   ],
   "outputs": [],
   "execution_count": 24
  },
  {
   "metadata": {
    "ExecuteTime": {
     "end_time": "2025-09-12T22:16:36.153301Z",
     "start_time": "2025-09-12T22:16:36.053183Z"
    }
   },
   "cell_type": "code",
   "source": [
    "import plotly.express as px\n",
    "from sklearn.decomposition import PCA\n",
    "\n",
    "X_scaled = StandardScaler().fit_transform(df[numeric_features])\n",
    "X_pca = PCA(n_components=2).fit_transform(X_scaled)\n",
    "\n",
    "fig = px.scatter(df, x=X_pca[:, 0], y=X_pca[:, 1], color=\"Churn\", opacity=0.8)\n",
    "fig.show()"
   ],
   "id": "92046acc128fa74",
   "outputs": [
    {
     "data": {
      "application/vnd.plotly.v1+json": {
       "data": [
        {
         "hovertemplate": "Churn=No<br>x=%{x}<br>y=%{y}<extra></extra>",
         "legendgroup": "No",
         "marker": {
          "color": "#636efa",
          "opacity": 0.8,
          "symbol": "circle"
         },
         "mode": "markers",
         "name": "No",
         "showlegend": true,
         "x": {
          "dtype": "f8",
          "bdata": "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"
         },
         "xaxis": "x",
         "y": {
          "dtype": "f8",
          "bdata": "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"
         },
         "yaxis": "y",
         "type": "scattergl"
        },
        {
         "hovertemplate": "Churn=Yes<br>x=%{x}<br>y=%{y}<extra></extra>",
         "legendgroup": "Yes",
         "marker": {
          "color": "#EF553B",
          "opacity": 0.8,
          "symbol": "circle"
         },
         "mode": "markers",
         "name": "Yes",
         "showlegend": true,
         "x": {
          "dtype": "f8",
          "bdata": "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"
         },
         "xaxis": "x",
         "y": {
          "dtype": "f8",
          "bdata": "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"
         },
         "yaxis": "y",
         "type": "scattergl"
        }
       ],
       "layout": {
        "template": {
         "data": {
          "histogram2dcontour": [
           {
            "type": "histogram2dcontour",
            "colorbar": {
             "outlinewidth": 0,
             "ticks": ""
            },
            "colorscale": [
             [
              0.0,
              "#0d0887"
             ],
             [
              0.1111111111111111,
              "#46039f"
             ],
             [
              0.2222222222222222,
              "#7201a8"
             ],
             [
              0.3333333333333333,
              "#9c179e"
             ],
             [
              0.4444444444444444,
              "#bd3786"
             ],
             [
              0.5555555555555556,
              "#d8576b"
             ],
             [
              0.6666666666666666,
              "#ed7953"
             ],
             [
              0.7777777777777778,
              "#fb9f3a"
             ],
             [
              0.8888888888888888,
              "#fdca26"
             ],
             [
              1.0,
              "#f0f921"
             ]
            ]
           }
          ],
          "choropleth": [
           {
            "type": "choropleth",
            "colorbar": {
             "outlinewidth": 0,
             "ticks": ""
            }
           }
          ],
          "histogram2d": [
           {
            "type": "histogram2d",
            "colorbar": {
             "outlinewidth": 0,
             "ticks": ""
            },
            "colorscale": [
             [
              0.0,
              "#0d0887"
             ],
             [
              0.1111111111111111,
              "#46039f"
             ],
             [
              0.2222222222222222,
              "#7201a8"
             ],
             [
              0.3333333333333333,
              "#9c179e"
             ],
             [
              0.4444444444444444,
              "#bd3786"
             ],
             [
              0.5555555555555556,
              "#d8576b"
             ],
             [
              0.6666666666666666,
              "#ed7953"
             ],
             [
              0.7777777777777778,
              "#fb9f3a"
             ],
             [
              0.8888888888888888,
              "#fdca26"
             ],
             [
              1.0,
              "#f0f921"
             ]
            ]
           }
          ],
          "heatmap": [
           {
            "type": "heatmap",
            "colorbar": {
             "outlinewidth": 0,
             "ticks": ""
            },
            "colorscale": [
             [
              0.0,
              "#0d0887"
             ],
             [
              0.1111111111111111,
              "#46039f"
             ],
             [
              0.2222222222222222,
              "#7201a8"
             ],
             [
              0.3333333333333333,
              "#9c179e"
             ],
             [
              0.4444444444444444,
              "#bd3786"
             ],
             [
              0.5555555555555556,
              "#d8576b"
             ],
             [
              0.6666666666666666,
              "#ed7953"
             ],
             [
              0.7777777777777778,
              "#fb9f3a"
             ],
             [
              0.8888888888888888,
              "#fdca26"
             ],
             [
              1.0,
              "#f0f921"
             ]
            ]
           }
          ],
          "contourcarpet": [
           {
            "type": "contourcarpet",
            "colorbar": {
             "outlinewidth": 0,
             "ticks": ""
            }
           }
          ],
          "contour": [
           {
            "type": "contour",
            "colorbar": {
             "outlinewidth": 0,
             "ticks": ""
            },
            "colorscale": [
             [
              0.0,
              "#0d0887"
             ],
             [
              0.1111111111111111,
              "#46039f"
             ],
             [
              0.2222222222222222,
              "#7201a8"
             ],
             [
              0.3333333333333333,
              "#9c179e"
             ],
             [
              0.4444444444444444,
              "#bd3786"
             ],
             [
              0.5555555555555556,
              "#d8576b"
             ],
             [
              0.6666666666666666,
              "#ed7953"
             ],
             [
              0.7777777777777778,
              "#fb9f3a"
             ],
             [
              0.8888888888888888,
              "#fdca26"
             ],
             [
              1.0,
              "#f0f921"
             ]
            ]
           }
          ],
          "surface": [
           {
            "type": "surface",
            "colorbar": {
             "outlinewidth": 0,
             "ticks": ""
            },
            "colorscale": [
             [
              0.0,
              "#0d0887"
             ],
             [
              0.1111111111111111,
              "#46039f"
             ],
             [
              0.2222222222222222,
              "#7201a8"
             ],
             [
              0.3333333333333333,
              "#9c179e"
             ],
             [
              0.4444444444444444,
              "#bd3786"
             ],
             [
              0.5555555555555556,
              "#d8576b"
             ],
             [
              0.6666666666666666,
              "#ed7953"
             ],
             [
              0.7777777777777778,
              "#fb9f3a"
             ],
             [
              0.8888888888888888,
              "#fdca26"
             ],
             [
              1.0,
              "#f0f921"
             ]
            ]
           }
          ],
          "mesh3d": [
           {
            "type": "mesh3d",
            "colorbar": {
             "outlinewidth": 0,
             "ticks": ""
            }
           }
          ],
          "scatter": [
           {
            "fillpattern": {
             "fillmode": "overlay",
             "size": 10,
             "solidity": 0.2
            },
            "type": "scatter"
           }
          ],
          "parcoords": [
           {
            "type": "parcoords",
            "line": {
             "colorbar": {
              "outlinewidth": 0,
              "ticks": ""
             }
            }
           }
          ],
          "scatterpolargl": [
           {
            "type": "scatterpolargl",
            "marker": {
             "colorbar": {
              "outlinewidth": 0,
              "ticks": ""
             }
            }
           }
          ],
          "bar": [
           {
            "error_x": {
             "color": "#2a3f5f"
            },
            "error_y": {
             "color": "#2a3f5f"
            },
            "marker": {
             "line": {
              "color": "#E5ECF6",
              "width": 0.5
             },
             "pattern": {
              "fillmode": "overlay",
              "size": 10,
              "solidity": 0.2
             }
            },
            "type": "bar"
           }
          ],
          "scattergeo": [
           {
            "type": "scattergeo",
            "marker": {
             "colorbar": {
              "outlinewidth": 0,
              "ticks": ""
             }
            }
           }
          ],
          "scatterpolar": [
           {
            "type": "scatterpolar",
            "marker": {
             "colorbar": {
              "outlinewidth": 0,
              "ticks": ""
             }
            }
           }
          ],
          "histogram": [
           {
            "marker": {
             "pattern": {
              "fillmode": "overlay",
              "size": 10,
              "solidity": 0.2
             }
            },
            "type": "histogram"
           }
          ],
          "scattergl": [
           {
            "type": "scattergl",
            "marker": {
             "colorbar": {
              "outlinewidth": 0,
              "ticks": ""
             }
            }
           }
          ],
          "scatter3d": [
           {
            "type": "scatter3d",
            "line": {
             "colorbar": {
              "outlinewidth": 0,
              "ticks": ""
             }
            },
            "marker": {
             "colorbar": {
              "outlinewidth": 0,
              "ticks": ""
             }
            }
           }
          ],
          "scattermap": [
           {
            "type": "scattermap",
            "marker": {
             "colorbar": {
              "outlinewidth": 0,
              "ticks": ""
             }
            }
           }
          ],
          "scattermapbox": [
           {
            "type": "scattermapbox",
            "marker": {
             "colorbar": {
              "outlinewidth": 0,
              "ticks": ""
             }
            }
           }
          ],
          "scatterternary": [
           {
            "type": "scatterternary",
            "marker": {
             "colorbar": {
              "outlinewidth": 0,
              "ticks": ""
             }
            }
           }
          ],
          "scattercarpet": [
           {
            "type": "scattercarpet",
            "marker": {
             "colorbar": {
              "outlinewidth": 0,
              "ticks": ""
             }
            }
           }
          ],
          "carpet": [
           {
            "aaxis": {
             "endlinecolor": "#2a3f5f",
             "gridcolor": "white",
             "linecolor": "white",
             "minorgridcolor": "white",
             "startlinecolor": "#2a3f5f"
            },
            "baxis": {
             "endlinecolor": "#2a3f5f",
             "gridcolor": "white",
             "linecolor": "white",
             "minorgridcolor": "white",
             "startlinecolor": "#2a3f5f"
            },
            "type": "carpet"
           }
          ],
          "table": [
           {
            "cells": {
             "fill": {
              "color": "#EBF0F8"
             },
             "line": {
              "color": "white"
             }
            },
            "header": {
             "fill": {
              "color": "#C8D4E3"
             },
             "line": {
              "color": "white"
             }
            },
            "type": "table"
           }
          ],
          "barpolar": [
           {
            "marker": {
             "line": {
              "color": "#E5ECF6",
              "width": 0.5
             },
             "pattern": {
              "fillmode": "overlay",
              "size": 10,
              "solidity": 0.2
             }
            },
            "type": "barpolar"
           }
          ],
          "pie": [
           {
            "automargin": true,
            "type": "pie"
           }
          ]
         },
         "layout": {
          "autotypenumbers": "strict",
          "colorway": [
           "#636efa",
           "#EF553B",
           "#00cc96",
           "#ab63fa",
           "#FFA15A",
           "#19d3f3",
           "#FF6692",
           "#B6E880",
           "#FF97FF",
           "#FECB52"
          ],
          "font": {
           "color": "#2a3f5f"
          },
          "hovermode": "closest",
          "hoverlabel": {
           "align": "left"
          },
          "paper_bgcolor": "white",
          "plot_bgcolor": "#E5ECF6",
          "polar": {
           "bgcolor": "#E5ECF6",
           "angularaxis": {
            "gridcolor": "white",
            "linecolor": "white",
            "ticks": ""
           },
           "radialaxis": {
            "gridcolor": "white",
            "linecolor": "white",
            "ticks": ""
           }
          },
          "ternary": {
           "bgcolor": "#E5ECF6",
           "aaxis": {
            "gridcolor": "white",
            "linecolor": "white",
            "ticks": ""
           },
           "baxis": {
            "gridcolor": "white",
            "linecolor": "white",
            "ticks": ""
           },
           "caxis": {
            "gridcolor": "white",
            "linecolor": "white",
            "ticks": ""
           }
          },
          "coloraxis": {
           "colorbar": {
            "outlinewidth": 0,
            "ticks": ""
           }
          },
          "colorscale": {
           "sequential": [
            [
             0.0,
             "#0d0887"
            ],
            [
             0.1111111111111111,
             "#46039f"
            ],
            [
             0.2222222222222222,
             "#7201a8"
            ],
            [
             0.3333333333333333,
             "#9c179e"
            ],
            [
             0.4444444444444444,
             "#bd3786"
            ],
            [
             0.5555555555555556,
             "#d8576b"
            ],
            [
             0.6666666666666666,
             "#ed7953"
            ],
            [
             0.7777777777777778,
             "#fb9f3a"
            ],
            [
             0.8888888888888888,
             "#fdca26"
            ],
            [
             1.0,
             "#f0f921"
            ]
           ],
           "sequentialminus": [
            [
             0.0,
             "#0d0887"
            ],
            [
             0.1111111111111111,
             "#46039f"
            ],
            [
             0.2222222222222222,
             "#7201a8"
            ],
            [
             0.3333333333333333,
             "#9c179e"
            ],
            [
             0.4444444444444444,
             "#bd3786"
            ],
            [
             0.5555555555555556,
             "#d8576b"
            ],
            [
             0.6666666666666666,
             "#ed7953"
            ],
            [
             0.7777777777777778,
             "#fb9f3a"
            ],
            [
             0.8888888888888888,
             "#fdca26"
            ],
            [
             1.0,
             "#f0f921"
            ]
           ],
           "diverging": [
            [
             0,
             "#8e0152"
            ],
            [
             0.1,
             "#c51b7d"
            ],
            [
             0.2,
             "#de77ae"
            ],
            [
             0.3,
             "#f1b6da"
            ],
            [
             0.4,
             "#fde0ef"
            ],
            [
             0.5,
             "#f7f7f7"
            ],
            [
             0.6,
             "#e6f5d0"
            ],
            [
             0.7,
             "#b8e186"
            ],
            [
             0.8,
             "#7fbc41"
            ],
            [
             0.9,
             "#4d9221"
            ],
            [
             1,
             "#276419"
            ]
           ]
          },
          "xaxis": {
           "gridcolor": "white",
           "linecolor": "white",
           "ticks": "",
           "title": {
            "standoff": 15
           },
           "zerolinecolor": "white",
           "automargin": true,
           "zerolinewidth": 2
          },
          "yaxis": {
           "gridcolor": "white",
           "linecolor": "white",
           "ticks": "",
           "title": {
            "standoff": 15
           },
           "zerolinecolor": "white",
           "automargin": true,
           "zerolinewidth": 2
          },
          "scene": {
           "xaxis": {
            "backgroundcolor": "#E5ECF6",
            "gridcolor": "white",
            "linecolor": "white",
            "showbackground": true,
            "ticks": "",
            "zerolinecolor": "white",
            "gridwidth": 2
           },
           "yaxis": {
            "backgroundcolor": "#E5ECF6",
            "gridcolor": "white",
            "linecolor": "white",
            "showbackground": true,
            "ticks": "",
            "zerolinecolor": "white",
            "gridwidth": 2
           },
           "zaxis": {
            "backgroundcolor": "#E5ECF6",
            "gridcolor": "white",
            "linecolor": "white",
            "showbackground": true,
            "ticks": "",
            "zerolinecolor": "white",
            "gridwidth": 2
           }
          },
          "shapedefaults": {
           "line": {
            "color": "#2a3f5f"
           }
          },
          "annotationdefaults": {
           "arrowcolor": "#2a3f5f",
           "arrowhead": 0,
           "arrowwidth": 1
          },
          "geo": {
           "bgcolor": "white",
           "landcolor": "#E5ECF6",
           "subunitcolor": "white",
           "showland": true,
           "showlakes": true,
           "lakecolor": "white"
          },
          "title": {
           "x": 0.05
          },
          "mapbox": {
           "style": "light"
          }
         }
        },
        "xaxis": {
         "anchor": "y",
         "domain": [
          0.0,
          1.0
         ],
         "title": {
          "text": "x"
         }
        },
        "yaxis": {
         "anchor": "x",
         "domain": [
          0.0,
          1.0
         ],
         "title": {
          "text": "y"
         }
        },
        "legend": {
         "title": {
          "text": "Churn"
         },
         "tracegroupgap": 0
        },
        "margin": {
         "t": 60
        }
       },
       "config": {
        "plotlyServerURL": "https://plot.ly"
       }
      }
     },
     "metadata": {},
     "output_type": "display_data"
    }
   ],
   "execution_count": 37
  },
  {
   "metadata": {
    "ExecuteTime": {
     "end_time": "2025-09-12T22:14:10.138019Z",
     "start_time": "2025-09-12T22:14:09.825627Z"
    }
   },
   "cell_type": "code",
   "source": [
    "import matplotlib.pyplot as plt\n",
    "import seaborn as sns\n",
    "\n",
    "plt.figure(figsize=(8, 6))\n",
    "sns.heatmap(df.corr(numeric_only=True), annot=True, cmap=\"YlGnBu\")"
   ],
   "id": "b3140e73e0d52448",
   "outputs": [
    {
     "data": {
      "text/plain": [
       "<Axes: >"
      ]
     },
     "execution_count": 36,
     "metadata": {},
     "output_type": "execute_result"
    },
    {
     "data": {
      "text/plain": [
       "<Figure size 800x600 with 2 Axes>"
      ],
      "image/png": "[encoded data removed]"
     },
     "metadata": {},
     "output_type": "display_data"
    }
   ],
   "execution_count": 36
  },
  {
   "metadata": {
    "ExecuteTime": {
     "end_time": "2025-09-12T22:18:56.460582Z",
     "start_time": "2025-09-12T22:18:50.464787Z"
    }
   },
   "cell_type": "code",
   "source": [
    "from sklearn.linear_model import LogisticRegression\n",
    "from sklearn.ensemble import RandomForestClassifier\n",
    "from sklearn.svm import SVC\n",
    "from sklearn.model_selection import cross_val_score\n",
    "from sklearn.model_selection import GridSearchCV\n",
    "\n",
    "models = {\n",
    "    \"Logistic Regression\": LogisticRegression(max_iter=2000),\n",
    "    \"Random Forest\": RandomForestClassifier(),\n",
    "    \"SVM\": SVC(),\n",
    "}\n",
    "\n",
    "cross_val_results = {}\n",
    "\n",
    "for name, model in models.items():\n",
    "    pipe = Pipeline([(\"preprocess\", preprocessor), (\"model\", model)])\n",
    "    scores = cross_val_score(pipe, X, y, cv=5, scoring=\"accuracy\")\n",
    "    print(f\"{name}: {scores.mean():.3f}, STD: {scores.std():.3f}\")\n",
    "    cross_val_results[name] = scores"
   ],
   "id": "4f1c8c4b9bdb3552",
   "outputs": [
    {
     "name": "stdout",
     "output_type": "stream",
     "text": [
      "Logistic Regression: 0.805, STD: 0.008\n",
      "Random Forest: 0.786, STD: 0.017\n",
      "SVM: 0.800, STD: 0.011\n"
     ]
    }
   ],
   "execution_count": 38
  },
  {
   "metadata": {
    "ExecuteTime": {
     "end_time": "2025-09-12T22:18:58.666308Z",
     "start_time": "2025-09-12T22:18:58.535500Z"
    }
   },
   "cell_type": "code",
   "source": [
    "# Convert to DataFrame\n",
    "cv_df = pd.DataFrame(cross_val_results)\n",
    "\n",
    "# Boxplot to show score distribution\n",
    "plt.figure(figsize=(10,6))\n",
    "sns.boxplot(data=cv_df)\n",
    "sns.stripplot(data=cv_df, color=\"black\", alpha=0.4)\n",
    "plt.title(\"Cross-Validation Accuracy by Model\")\n",
    "plt.ylabel(\"Accuracy\")\n",
    "plt.show()"
   ],
   "id": "2f87bf53e1df0aa5",
   "outputs": [
    {
     "data": {
      "text/plain": [
       "<Figure size 1000x600 with 1 Axes>"
      ],
      "image/png": "[encoded data removed]"
     },
     "metadata": {},
     "output_type": "display_data"
    }
   ],
   "execution_count": 39
  }
 ],
 "metadata": {
  "kernelspec": {
   "display_name": ".venv",
   "language": "python",
   "name": "python3"
  },
  "language_info": {
   "codemirror_mode": {
    "name": "ipython",
    "version": 3
   },
   "file_extension": ".py",
   "mimetype": "text/x-python",
   "name": "python",
   "nbconvert_exporter": "python",
   "pygments_lexer": "ipython3",
   "version": "3.13.3"
  }
 },
 "nbformat": 4,
 "nbformat_minor": 5
}
